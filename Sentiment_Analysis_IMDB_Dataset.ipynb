{
  "nbformat": 4,
  "nbformat_minor": 0,
  "metadata": {
    "colab": {
      "name": "Sentiment_Analysis_IMDB_Dataset.ipynb",
      "provenance": [],
      "collapsed_sections": []
    },
    "kernelspec": {
      "name": "python3",
      "display_name": "Python 3"
    },
    "language_info": {
      "name": "python"
    },
    "accelerator": "GPU"
  },
  "cells": [
    {
      "cell_type": "markdown",
      "source": [
        "#Drive Authentication"
      ],
      "metadata": {
        "id": "wQnq8yq44WOQ"
      }
    },
    {
      "cell_type": "code",
      "source": [
        "!pip install -U -q PyDrive\n",
        "from pydrive.auth import GoogleAuth\n",
        "from pydrive.drive import GoogleDrive\n",
        "from google.colab import auth\n",
        "from oauth2client.client import GoogleCredentials\n",
        "\n",
        "auth.authenticate_user()\n",
        "gauth = GoogleAuth()\n",
        "gauth.credentials = GoogleCredentials.get_application_default()\n",
        "drive = GoogleDrive(gauth)\n"
      ],
      "metadata": {
        "id": "IjU6PBBi4a4N"
      },
      "execution_count": null,
      "outputs": []
    },
    {
      "cell_type": "code",
      "source": [
        "from google.colab import drive\n",
        "drive.mount('/content/drive')\n"
      ],
      "metadata": {
        "colab": {
          "base_uri": "https://localhost:8080/"
        },
        "id": "PShFrMLuZL4s",
        "outputId": "af694404-4d5e-47bb-daa6-5480030a0054"
      },
      "execution_count": null,
      "outputs": [
        {
          "output_type": "stream",
          "name": "stdout",
          "text": [
            "Mounted at /content/drive\n"
          ]
        }
      ]
    },
    {
      "cell_type": "code",
      "source": [
        "import logging\n",
        "logging.basicConfig(level=logging.ERROR)"
      ],
      "metadata": {
        "id": "FT_YG6ZOSg-N"
      },
      "execution_count": null,
      "outputs": []
    },
    {
      "cell_type": "markdown",
      "source": [
        "#Reading the dataset"
      ],
      "metadata": {
        "id": "dTGzUlRd4dIP"
      }
    },
    {
      "cell_type": "code",
      "execution_count": null,
      "metadata": {
        "id": "E8N0YdQIV8HL"
      },
      "outputs": [],
      "source": [
        "import pandas as pd\n",
        "df = pd.read_csv(\"/content/drive/MyDrive/Dlops project/IMDB Dataset.csv\")"
      ]
    },
    {
      "cell_type": "code",
      "source": [
        "df = df.iloc[:1000,:]"
      ],
      "metadata": {
        "id": "MhWdz99sEwJ8"
      },
      "execution_count": null,
      "outputs": []
    },
    {
      "cell_type": "code",
      "source": [
        "df.head()"
      ],
      "metadata": {
        "colab": {
          "base_uri": "https://localhost:8080/",
          "height": 206
        },
        "id": "0UkaFIZSaI28",
        "outputId": "7978533b-0ed4-49be-ef47-772e48c9b04f"
      },
      "execution_count": null,
      "outputs": [
        {
          "output_type": "execute_result",
          "data": {
            "text/plain": [
              "                                              review sentiment\n",
              "0  One of the other reviewers has mentioned that ...  positive\n",
              "1  A wonderful little production. <br /><br />The...  positive\n",
              "2  I thought this was a wonderful way to spend ti...  positive\n",
              "3  Basically there's a family where a little boy ...  negative\n",
              "4  Petter Mattei's \"Love in the Time of Money\" is...  positive"
            ],
            "text/html": [
              "\n",
              "  <div id=\"df-86505879-761f-475d-807a-33ae09a2b322\">\n",
              "    <div class=\"colab-df-container\">\n",
              "      <div>\n",
              "<style scoped>\n",
              "    .dataframe tbody tr th:only-of-type {\n",
              "        vertical-align: middle;\n",
              "    }\n",
              "\n",
              "    .dataframe tbody tr th {\n",
              "        vertical-align: top;\n",
              "    }\n",
              "\n",
              "    .dataframe thead th {\n",
              "        text-align: right;\n",
              "    }\n",
              "</style>\n",
              "<table border=\"1\" class=\"dataframe\">\n",
              "  <thead>\n",
              "    <tr style=\"text-align: right;\">\n",
              "      <th></th>\n",
              "      <th>review</th>\n",
              "      <th>sentiment</th>\n",
              "    </tr>\n",
              "  </thead>\n",
              "  <tbody>\n",
              "    <tr>\n",
              "      <th>0</th>\n",
              "      <td>One of the other reviewers has mentioned that ...</td>\n",
              "      <td>positive</td>\n",
              "    </tr>\n",
              "    <tr>\n",
              "      <th>1</th>\n",
              "      <td>A wonderful little production. &lt;br /&gt;&lt;br /&gt;The...</td>\n",
              "      <td>positive</td>\n",
              "    </tr>\n",
              "    <tr>\n",
              "      <th>2</th>\n",
              "      <td>I thought this was a wonderful way to spend ti...</td>\n",
              "      <td>positive</td>\n",
              "    </tr>\n",
              "    <tr>\n",
              "      <th>3</th>\n",
              "      <td>Basically there's a family where a little boy ...</td>\n",
              "      <td>negative</td>\n",
              "    </tr>\n",
              "    <tr>\n",
              "      <th>4</th>\n",
              "      <td>Petter Mattei's \"Love in the Time of Money\" is...</td>\n",
              "      <td>positive</td>\n",
              "    </tr>\n",
              "  </tbody>\n",
              "</table>\n",
              "</div>\n",
              "      <button class=\"colab-df-convert\" onclick=\"convertToInteractive('df-86505879-761f-475d-807a-33ae09a2b322')\"\n",
              "              title=\"Convert this dataframe to an interactive table.\"\n",
              "              style=\"display:none;\">\n",
              "        \n",
              "  <svg xmlns=\"http://www.w3.org/2000/svg\" height=\"24px\"viewBox=\"0 0 24 24\"\n",
              "       width=\"24px\">\n",
              "    <path d=\"M0 0h24v24H0V0z\" fill=\"none\"/>\n",
              "    <path d=\"M18.56 5.44l.94 2.06.94-2.06 2.06-.94-2.06-.94-.94-2.06-.94 2.06-2.06.94zm-11 1L8.5 8.5l.94-2.06 2.06-.94-2.06-.94L8.5 2.5l-.94 2.06-2.06.94zm10 10l.94 2.06.94-2.06 2.06-.94-2.06-.94-.94-2.06-.94 2.06-2.06.94z\"/><path d=\"M17.41 7.96l-1.37-1.37c-.4-.4-.92-.59-1.43-.59-.52 0-1.04.2-1.43.59L10.3 9.45l-7.72 7.72c-.78.78-.78 2.05 0 2.83L4 21.41c.39.39.9.59 1.41.59.51 0 1.02-.2 1.41-.59l7.78-7.78 2.81-2.81c.8-.78.8-2.07 0-2.86zM5.41 20L4 18.59l7.72-7.72 1.47 1.35L5.41 20z\"/>\n",
              "  </svg>\n",
              "      </button>\n",
              "      \n",
              "  <style>\n",
              "    .colab-df-container {\n",
              "      display:flex;\n",
              "      flex-wrap:wrap;\n",
              "      gap: 12px;\n",
              "    }\n",
              "\n",
              "    .colab-df-convert {\n",
              "      background-color: #E8F0FE;\n",
              "      border: none;\n",
              "      border-radius: 50%;\n",
              "      cursor: pointer;\n",
              "      display: none;\n",
              "      fill: #1967D2;\n",
              "      height: 32px;\n",
              "      padding: 0 0 0 0;\n",
              "      width: 32px;\n",
              "    }\n",
              "\n",
              "    .colab-df-convert:hover {\n",
              "      background-color: #E2EBFA;\n",
              "      box-shadow: 0px 1px 2px rgba(60, 64, 67, 0.3), 0px 1px 3px 1px rgba(60, 64, 67, 0.15);\n",
              "      fill: #174EA6;\n",
              "    }\n",
              "\n",
              "    [theme=dark] .colab-df-convert {\n",
              "      background-color: #3B4455;\n",
              "      fill: #D2E3FC;\n",
              "    }\n",
              "\n",
              "    [theme=dark] .colab-df-convert:hover {\n",
              "      background-color: #434B5C;\n",
              "      box-shadow: 0px 1px 3px 1px rgba(0, 0, 0, 0.15);\n",
              "      filter: drop-shadow(0px 1px 2px rgba(0, 0, 0, 0.3));\n",
              "      fill: #FFFFFF;\n",
              "    }\n",
              "  </style>\n",
              "\n",
              "      <script>\n",
              "        const buttonEl =\n",
              "          document.querySelector('#df-86505879-761f-475d-807a-33ae09a2b322 button.colab-df-convert');\n",
              "        buttonEl.style.display =\n",
              "          google.colab.kernel.accessAllowed ? 'block' : 'none';\n",
              "\n",
              "        async function convertToInteractive(key) {\n",
              "          const element = document.querySelector('#df-86505879-761f-475d-807a-33ae09a2b322');\n",
              "          const dataTable =\n",
              "            await google.colab.kernel.invokeFunction('convertToInteractive',\n",
              "                                                     [key], {});\n",
              "          if (!dataTable) return;\n",
              "\n",
              "          const docLinkHtml = 'Like what you see? Visit the ' +\n",
              "            '<a target=\"_blank\" href=https://colab.research.google.com/notebooks/data_table.ipynb>data table notebook</a>'\n",
              "            + ' to learn more about interactive tables.';\n",
              "          element.innerHTML = '';\n",
              "          dataTable['output_type'] = 'display_data';\n",
              "          await google.colab.output.renderOutput(dataTable, element);\n",
              "          const docLink = document.createElement('div');\n",
              "          docLink.innerHTML = docLinkHtml;\n",
              "          element.appendChild(docLink);\n",
              "        }\n",
              "      </script>\n",
              "    </div>\n",
              "  </div>\n",
              "  "
            ]
          },
          "metadata": {},
          "execution_count": 26
        }
      ]
    },
    {
      "cell_type": "code",
      "source": [
        "len(df)"
      ],
      "metadata": {
        "colab": {
          "base_uri": "https://localhost:8080/"
        },
        "id": "5K7ZY7-QaN3b",
        "outputId": "6a7dbfb3-24eb-4879-8d32-71b5b9c1bd50"
      },
      "execution_count": null,
      "outputs": [
        {
          "output_type": "execute_result",
          "data": {
            "text/plain": [
              "1000"
            ]
          },
          "metadata": {},
          "execution_count": 27
        }
      ]
    },
    {
      "cell_type": "code",
      "source": [
        "df.head()"
      ],
      "metadata": {
        "colab": {
          "base_uri": "https://localhost:8080/",
          "height": 206
        },
        "id": "a1b-scx1zv9Y",
        "outputId": "86618334-52b7-4e23-b2a3-91b720b6f625"
      },
      "execution_count": null,
      "outputs": [
        {
          "output_type": "execute_result",
          "data": {
            "text/plain": [
              "                                              review sentiment\n",
              "0  One of the other reviewers has mentioned that ...  positive\n",
              "1  A wonderful little production. <br /><br />The...  positive\n",
              "2  I thought this was a wonderful way to spend ti...  positive\n",
              "3  Basically there's a family where a little boy ...  negative\n",
              "4  Petter Mattei's \"Love in the Time of Money\" is...  positive"
            ],
            "text/html": [
              "\n",
              "  <div id=\"df-f8eee75d-124b-4fee-b08e-a196da3e4ea7\">\n",
              "    <div class=\"colab-df-container\">\n",
              "      <div>\n",
              "<style scoped>\n",
              "    .dataframe tbody tr th:only-of-type {\n",
              "        vertical-align: middle;\n",
              "    }\n",
              "\n",
              "    .dataframe tbody tr th {\n",
              "        vertical-align: top;\n",
              "    }\n",
              "\n",
              "    .dataframe thead th {\n",
              "        text-align: right;\n",
              "    }\n",
              "</style>\n",
              "<table border=\"1\" class=\"dataframe\">\n",
              "  <thead>\n",
              "    <tr style=\"text-align: right;\">\n",
              "      <th></th>\n",
              "      <th>review</th>\n",
              "      <th>sentiment</th>\n",
              "    </tr>\n",
              "  </thead>\n",
              "  <tbody>\n",
              "    <tr>\n",
              "      <th>0</th>\n",
              "      <td>One of the other reviewers has mentioned that ...</td>\n",
              "      <td>positive</td>\n",
              "    </tr>\n",
              "    <tr>\n",
              "      <th>1</th>\n",
              "      <td>A wonderful little production. &lt;br /&gt;&lt;br /&gt;The...</td>\n",
              "      <td>positive</td>\n",
              "    </tr>\n",
              "    <tr>\n",
              "      <th>2</th>\n",
              "      <td>I thought this was a wonderful way to spend ti...</td>\n",
              "      <td>positive</td>\n",
              "    </tr>\n",
              "    <tr>\n",
              "      <th>3</th>\n",
              "      <td>Basically there's a family where a little boy ...</td>\n",
              "      <td>negative</td>\n",
              "    </tr>\n",
              "    <tr>\n",
              "      <th>4</th>\n",
              "      <td>Petter Mattei's \"Love in the Time of Money\" is...</td>\n",
              "      <td>positive</td>\n",
              "    </tr>\n",
              "  </tbody>\n",
              "</table>\n",
              "</div>\n",
              "      <button class=\"colab-df-convert\" onclick=\"convertToInteractive('df-f8eee75d-124b-4fee-b08e-a196da3e4ea7')\"\n",
              "              title=\"Convert this dataframe to an interactive table.\"\n",
              "              style=\"display:none;\">\n",
              "        \n",
              "  <svg xmlns=\"http://www.w3.org/2000/svg\" height=\"24px\"viewBox=\"0 0 24 24\"\n",
              "       width=\"24px\">\n",
              "    <path d=\"M0 0h24v24H0V0z\" fill=\"none\"/>\n",
              "    <path d=\"M18.56 5.44l.94 2.06.94-2.06 2.06-.94-2.06-.94-.94-2.06-.94 2.06-2.06.94zm-11 1L8.5 8.5l.94-2.06 2.06-.94-2.06-.94L8.5 2.5l-.94 2.06-2.06.94zm10 10l.94 2.06.94-2.06 2.06-.94-2.06-.94-.94-2.06-.94 2.06-2.06.94z\"/><path d=\"M17.41 7.96l-1.37-1.37c-.4-.4-.92-.59-1.43-.59-.52 0-1.04.2-1.43.59L10.3 9.45l-7.72 7.72c-.78.78-.78 2.05 0 2.83L4 21.41c.39.39.9.59 1.41.59.51 0 1.02-.2 1.41-.59l7.78-7.78 2.81-2.81c.8-.78.8-2.07 0-2.86zM5.41 20L4 18.59l7.72-7.72 1.47 1.35L5.41 20z\"/>\n",
              "  </svg>\n",
              "      </button>\n",
              "      \n",
              "  <style>\n",
              "    .colab-df-container {\n",
              "      display:flex;\n",
              "      flex-wrap:wrap;\n",
              "      gap: 12px;\n",
              "    }\n",
              "\n",
              "    .colab-df-convert {\n",
              "      background-color: #E8F0FE;\n",
              "      border: none;\n",
              "      border-radius: 50%;\n",
              "      cursor: pointer;\n",
              "      display: none;\n",
              "      fill: #1967D2;\n",
              "      height: 32px;\n",
              "      padding: 0 0 0 0;\n",
              "      width: 32px;\n",
              "    }\n",
              "\n",
              "    .colab-df-convert:hover {\n",
              "      background-color: #E2EBFA;\n",
              "      box-shadow: 0px 1px 2px rgba(60, 64, 67, 0.3), 0px 1px 3px 1px rgba(60, 64, 67, 0.15);\n",
              "      fill: #174EA6;\n",
              "    }\n",
              "\n",
              "    [theme=dark] .colab-df-convert {\n",
              "      background-color: #3B4455;\n",
              "      fill: #D2E3FC;\n",
              "    }\n",
              "\n",
              "    [theme=dark] .colab-df-convert:hover {\n",
              "      background-color: #434B5C;\n",
              "      box-shadow: 0px 1px 3px 1px rgba(0, 0, 0, 0.15);\n",
              "      filter: drop-shadow(0px 1px 2px rgba(0, 0, 0, 0.3));\n",
              "      fill: #FFFFFF;\n",
              "    }\n",
              "  </style>\n",
              "\n",
              "      <script>\n",
              "        const buttonEl =\n",
              "          document.querySelector('#df-f8eee75d-124b-4fee-b08e-a196da3e4ea7 button.colab-df-convert');\n",
              "        buttonEl.style.display =\n",
              "          google.colab.kernel.accessAllowed ? 'block' : 'none';\n",
              "\n",
              "        async function convertToInteractive(key) {\n",
              "          const element = document.querySelector('#df-f8eee75d-124b-4fee-b08e-a196da3e4ea7');\n",
              "          const dataTable =\n",
              "            await google.colab.kernel.invokeFunction('convertToInteractive',\n",
              "                                                     [key], {});\n",
              "          if (!dataTable) return;\n",
              "\n",
              "          const docLinkHtml = 'Like what you see? Visit the ' +\n",
              "            '<a target=\"_blank\" href=https://colab.research.google.com/notebooks/data_table.ipynb>data table notebook</a>'\n",
              "            + ' to learn more about interactive tables.';\n",
              "          element.innerHTML = '';\n",
              "          dataTable['output_type'] = 'display_data';\n",
              "          await google.colab.output.renderOutput(dataTable, element);\n",
              "          const docLink = document.createElement('div');\n",
              "          docLink.innerHTML = docLinkHtml;\n",
              "          element.appendChild(docLink);\n",
              "        }\n",
              "      </script>\n",
              "    </div>\n",
              "  </div>\n",
              "  "
            ]
          },
          "metadata": {},
          "execution_count": 28
        }
      ]
    },
    {
      "cell_type": "code",
      "source": [
        "df.sentiment.value_counts()"
      ],
      "metadata": {
        "colab": {
          "base_uri": "https://localhost:8080/"
        },
        "id": "lVVRc9iI0jPr",
        "outputId": "dac49ef6-34cf-4f98-9d38-bf365aea009b"
      },
      "execution_count": null,
      "outputs": [
        {
          "output_type": "execute_result",
          "data": {
            "text/plain": [
              "positive    501\n",
              "negative    499\n",
              "Name: sentiment, dtype: int64"
            ]
          },
          "metadata": {},
          "execution_count": 29
        }
      ]
    },
    {
      "cell_type": "markdown",
      "source": [
        "#Train test split"
      ],
      "metadata": {
        "id": "Mp0aVYDbgvfB"
      }
    },
    {
      "cell_type": "code",
      "source": [
        "df_positive = df[df.sentiment==\"positive\"]\n",
        "df_negative = df[df.sentiment==\"negative\"]\n"
      ],
      "metadata": {
        "id": "8NiNkA92gu0W"
      },
      "execution_count": null,
      "outputs": []
    },
    {
      "cell_type": "code",
      "source": [
        "print(len(df_positive))\n",
        "print(len(df_negative))"
      ],
      "metadata": {
        "colab": {
          "base_uri": "https://localhost:8080/"
        },
        "id": "2nEvpaoV0ozm",
        "outputId": "df85e052-b3c2-4eea-cda2-16a3fc77eecb"
      },
      "execution_count": null,
      "outputs": [
        {
          "output_type": "stream",
          "name": "stdout",
          "text": [
            "501\n",
            "499\n"
          ]
        }
      ]
    },
    {
      "cell_type": "code",
      "source": [
        "from sklearn.model_selection import train_test_split\n",
        "X_pos = df_positive.review\n",
        "y_pos = df_positive.sentiment\n",
        "X_train_pos, X_test_pos, y_train_pos, y_test_pos = train_test_split(X_pos, y_pos, test_size=0.4, random_state=42)\n",
        "\n",
        "X_neg = df_negative.review\n",
        "y_neg = df_negative.sentiment\n",
        "X_train_neg, X_test_neg, y_train_neg, y_test_neg = train_test_split(X_neg, y_neg, test_size=0.4, random_state=42)\n"
      ],
      "metadata": {
        "id": "wfkvhuAchDne"
      },
      "execution_count": null,
      "outputs": []
    },
    {
      "cell_type": "code",
      "source": [
        "X_train = X_train_pos.append(X_train_neg, ignore_index=True)\n",
        "X_test = X_test_pos.append(X_test_neg, ignore_index=True)\n",
        "y_train = y_train_pos.append(y_train_neg, ignore_index=True)\n",
        "y_test = y_test_pos.append(y_test_neg, ignore_index=True)\n"
      ],
      "metadata": {
        "id": "ANsWpzuXhnEv"
      },
      "execution_count": null,
      "outputs": []
    },
    {
      "cell_type": "code",
      "source": [
        "print(len(X_train),len(X_test),len(y_train),len(y_test))"
      ],
      "metadata": {
        "colab": {
          "base_uri": "https://localhost:8080/"
        },
        "id": "SlqgRorQ1JKB",
        "outputId": "441b9854-835f-4daa-a326-5fa64cc6f2c0"
      },
      "execution_count": null,
      "outputs": [
        {
          "output_type": "stream",
          "name": "stdout",
          "text": [
            "599 401 599 401\n"
          ]
        }
      ]
    },
    {
      "cell_type": "code",
      "source": [
        "review_list_train = list(X_train)\n",
        "sentiment_list_train = list(y_train)\n",
        "df_train = pd.DataFrame(list(zip(review_list_train, sentiment_list_train)),\n",
        "               columns =['review', 'sentiment'])\n",
        "print(df_train.head)\n",
        "df_train = df_train.sample(frac = 1)"
      ],
      "metadata": {
        "colab": {
          "base_uri": "https://localhost:8080/"
        },
        "id": "Xbi4MHbnnSXw",
        "outputId": "e116efe0-7d06-4e77-958b-79916888c09f"
      },
      "execution_count": null,
      "outputs": [
        {
          "output_type": "stream",
          "name": "stdout",
          "text": [
            "<bound method NDFrame.head of                                                 review sentiment\n",
            "0    I had before a feeling of mislike for all Russ...  positive\n",
            "1    Overall I was rather impressed with the pilot....  positive\n",
            "2    This film held my interest enough to watch it ...  positive\n",
            "3    Riding high on the success of \"Rebel Without a...  positive\n",
            "4    If you like Sci-Fi, Monsters, and Ancient Lege...  positive\n",
            "..                                                 ...       ...\n",
            "594  A very ordinary made-for-tv product, \"Tyson\" a...  negative\n",
            "595  The story and the show were good, but it was r...  negative\n",
            "596  Time is precious. This film isn't. I must lear...  negative\n",
            "597  The Quick and the Undead is, finally, the firs...  negative\n",
            "598  This movie was a failure as a comedy and a fil...  negative\n",
            "\n",
            "[599 rows x 2 columns]>\n"
          ]
        }
      ]
    },
    {
      "cell_type": "code",
      "source": [
        "review_list_test = list(X_test)\n",
        "sentiment_list_test = list(y_test)\n",
        "df_valid = pd.DataFrame(list(zip(review_list_test, sentiment_list_test)),\n",
        "               columns =['review', 'sentiment'])\n",
        "\n",
        "df_valid = df_valid.sample(frac = 1)"
      ],
      "metadata": {
        "id": "azVsPWPWoTMe"
      },
      "execution_count": null,
      "outputs": []
    },
    {
      "cell_type": "code",
      "source": [
        "print(len(df_train))\n",
        "print(len(df_valid))"
      ],
      "metadata": {
        "colab": {
          "base_uri": "https://localhost:8080/"
        },
        "id": "kk2atcxaqxcA",
        "outputId": "60e03faf-cf1b-4286-90d4-0116ed7c1f99"
      },
      "execution_count": null,
      "outputs": [
        {
          "output_type": "stream",
          "name": "stdout",
          "text": [
            "599\n",
            "401\n"
          ]
        }
      ]
    },
    {
      "cell_type": "code",
      "source": [
        "df_valid"
      ],
      "metadata": {
        "colab": {
          "base_uri": "https://localhost:8080/",
          "height": 424
        },
        "id": "LgVMbKFy0IrT",
        "outputId": "99eb903c-5180-4591-c23b-cba621c9e258"
      },
      "execution_count": null,
      "outputs": [
        {
          "output_type": "execute_result",
          "data": {
            "text/plain": [
              "                                                review sentiment\n",
              "275  It is incredible that there were two films wit...  negative\n",
              "239  Coen Brothers-wannabe from writer-director Pau...  negative\n",
              "263  it got switched off before the opening credits...  negative\n",
              "188  i am finally seeing the El Padrino movie, from...  positive\n",
              "143  This movie really woke me up, like it wakes up...  positive\n",
              "..                                                 ...       ...\n",
              "362  Pepe le Moko, played by Charles Boyer, is some...  negative\n",
              "86   For his first ever debut this film has some ri...  positive\n",
              "78   This PM Entertainment production is laced with...  positive\n",
              "111  So real and surreal, all in one. I remember fe...  positive\n",
              "251  This is probably the first entry in the \"Lance...  negative\n",
              "\n",
              "[401 rows x 2 columns]"
            ],
            "text/html": [
              "\n",
              "  <div id=\"df-354e6da3-d278-41c8-8e0c-4ec2f660c77d\">\n",
              "    <div class=\"colab-df-container\">\n",
              "      <div>\n",
              "<style scoped>\n",
              "    .dataframe tbody tr th:only-of-type {\n",
              "        vertical-align: middle;\n",
              "    }\n",
              "\n",
              "    .dataframe tbody tr th {\n",
              "        vertical-align: top;\n",
              "    }\n",
              "\n",
              "    .dataframe thead th {\n",
              "        text-align: right;\n",
              "    }\n",
              "</style>\n",
              "<table border=\"1\" class=\"dataframe\">\n",
              "  <thead>\n",
              "    <tr style=\"text-align: right;\">\n",
              "      <th></th>\n",
              "      <th>review</th>\n",
              "      <th>sentiment</th>\n",
              "    </tr>\n",
              "  </thead>\n",
              "  <tbody>\n",
              "    <tr>\n",
              "      <th>275</th>\n",
              "      <td>It is incredible that there were two films wit...</td>\n",
              "      <td>negative</td>\n",
              "    </tr>\n",
              "    <tr>\n",
              "      <th>239</th>\n",
              "      <td>Coen Brothers-wannabe from writer-director Pau...</td>\n",
              "      <td>negative</td>\n",
              "    </tr>\n",
              "    <tr>\n",
              "      <th>263</th>\n",
              "      <td>it got switched off before the opening credits...</td>\n",
              "      <td>negative</td>\n",
              "    </tr>\n",
              "    <tr>\n",
              "      <th>188</th>\n",
              "      <td>i am finally seeing the El Padrino movie, from...</td>\n",
              "      <td>positive</td>\n",
              "    </tr>\n",
              "    <tr>\n",
              "      <th>143</th>\n",
              "      <td>This movie really woke me up, like it wakes up...</td>\n",
              "      <td>positive</td>\n",
              "    </tr>\n",
              "    <tr>\n",
              "      <th>...</th>\n",
              "      <td>...</td>\n",
              "      <td>...</td>\n",
              "    </tr>\n",
              "    <tr>\n",
              "      <th>362</th>\n",
              "      <td>Pepe le Moko, played by Charles Boyer, is some...</td>\n",
              "      <td>negative</td>\n",
              "    </tr>\n",
              "    <tr>\n",
              "      <th>86</th>\n",
              "      <td>For his first ever debut this film has some ri...</td>\n",
              "      <td>positive</td>\n",
              "    </tr>\n",
              "    <tr>\n",
              "      <th>78</th>\n",
              "      <td>This PM Entertainment production is laced with...</td>\n",
              "      <td>positive</td>\n",
              "    </tr>\n",
              "    <tr>\n",
              "      <th>111</th>\n",
              "      <td>So real and surreal, all in one. I remember fe...</td>\n",
              "      <td>positive</td>\n",
              "    </tr>\n",
              "    <tr>\n",
              "      <th>251</th>\n",
              "      <td>This is probably the first entry in the \"Lance...</td>\n",
              "      <td>negative</td>\n",
              "    </tr>\n",
              "  </tbody>\n",
              "</table>\n",
              "<p>401 rows × 2 columns</p>\n",
              "</div>\n",
              "      <button class=\"colab-df-convert\" onclick=\"convertToInteractive('df-354e6da3-d278-41c8-8e0c-4ec2f660c77d')\"\n",
              "              title=\"Convert this dataframe to an interactive table.\"\n",
              "              style=\"display:none;\">\n",
              "        \n",
              "  <svg xmlns=\"http://www.w3.org/2000/svg\" height=\"24px\"viewBox=\"0 0 24 24\"\n",
              "       width=\"24px\">\n",
              "    <path d=\"M0 0h24v24H0V0z\" fill=\"none\"/>\n",
              "    <path d=\"M18.56 5.44l.94 2.06.94-2.06 2.06-.94-2.06-.94-.94-2.06-.94 2.06-2.06.94zm-11 1L8.5 8.5l.94-2.06 2.06-.94-2.06-.94L8.5 2.5l-.94 2.06-2.06.94zm10 10l.94 2.06.94-2.06 2.06-.94-2.06-.94-.94-2.06-.94 2.06-2.06.94z\"/><path d=\"M17.41 7.96l-1.37-1.37c-.4-.4-.92-.59-1.43-.59-.52 0-1.04.2-1.43.59L10.3 9.45l-7.72 7.72c-.78.78-.78 2.05 0 2.83L4 21.41c.39.39.9.59 1.41.59.51 0 1.02-.2 1.41-.59l7.78-7.78 2.81-2.81c.8-.78.8-2.07 0-2.86zM5.41 20L4 18.59l7.72-7.72 1.47 1.35L5.41 20z\"/>\n",
              "  </svg>\n",
              "      </button>\n",
              "      \n",
              "  <style>\n",
              "    .colab-df-container {\n",
              "      display:flex;\n",
              "      flex-wrap:wrap;\n",
              "      gap: 12px;\n",
              "    }\n",
              "\n",
              "    .colab-df-convert {\n",
              "      background-color: #E8F0FE;\n",
              "      border: none;\n",
              "      border-radius: 50%;\n",
              "      cursor: pointer;\n",
              "      display: none;\n",
              "      fill: #1967D2;\n",
              "      height: 32px;\n",
              "      padding: 0 0 0 0;\n",
              "      width: 32px;\n",
              "    }\n",
              "\n",
              "    .colab-df-convert:hover {\n",
              "      background-color: #E2EBFA;\n",
              "      box-shadow: 0px 1px 2px rgba(60, 64, 67, 0.3), 0px 1px 3px 1px rgba(60, 64, 67, 0.15);\n",
              "      fill: #174EA6;\n",
              "    }\n",
              "\n",
              "    [theme=dark] .colab-df-convert {\n",
              "      background-color: #3B4455;\n",
              "      fill: #D2E3FC;\n",
              "    }\n",
              "\n",
              "    [theme=dark] .colab-df-convert:hover {\n",
              "      background-color: #434B5C;\n",
              "      box-shadow: 0px 1px 3px 1px rgba(0, 0, 0, 0.15);\n",
              "      filter: drop-shadow(0px 1px 2px rgba(0, 0, 0, 0.3));\n",
              "      fill: #FFFFFF;\n",
              "    }\n",
              "  </style>\n",
              "\n",
              "      <script>\n",
              "        const buttonEl =\n",
              "          document.querySelector('#df-354e6da3-d278-41c8-8e0c-4ec2f660c77d button.colab-df-convert');\n",
              "        buttonEl.style.display =\n",
              "          google.colab.kernel.accessAllowed ? 'block' : 'none';\n",
              "\n",
              "        async function convertToInteractive(key) {\n",
              "          const element = document.querySelector('#df-354e6da3-d278-41c8-8e0c-4ec2f660c77d');\n",
              "          const dataTable =\n",
              "            await google.colab.kernel.invokeFunction('convertToInteractive',\n",
              "                                                     [key], {});\n",
              "          if (!dataTable) return;\n",
              "\n",
              "          const docLinkHtml = 'Like what you see? Visit the ' +\n",
              "            '<a target=\"_blank\" href=https://colab.research.google.com/notebooks/data_table.ipynb>data table notebook</a>'\n",
              "            + ' to learn more about interactive tables.';\n",
              "          element.innerHTML = '';\n",
              "          dataTable['output_type'] = 'display_data';\n",
              "          await google.colab.output.renderOutput(dataTable, element);\n",
              "          const docLink = document.createElement('div');\n",
              "          docLink.innerHTML = docLinkHtml;\n",
              "          element.appendChild(docLink);\n",
              "        }\n",
              "      </script>\n",
              "    </div>\n",
              "  </div>\n",
              "  "
            ]
          },
          "metadata": {},
          "execution_count": 38
        }
      ]
    },
    {
      "cell_type": "code",
      "source": [
        "sentiment_mapping = {\n",
        "    'positive': 0,\n",
        "    'negative': 1,\n",
        "}\n",
        "df_train['sentiment'] = df_train['sentiment'].map(sentiment_mapping)\n",
        "df_valid['sentiment'] = df_valid['sentiment'].map(sentiment_mapping)\n",
        "\n",
        "\n",
        "df_train = df_train.reset_index(drop=True)\n",
        "df_valid = df_valid.reset_index(drop=True)"
      ],
      "metadata": {
        "id": "7rtY68N58m28"
      },
      "execution_count": null,
      "outputs": []
    },
    {
      "cell_type": "code",
      "source": [
        "df_train.tail()"
      ],
      "metadata": {
        "colab": {
          "base_uri": "https://localhost:8080/",
          "height": 206
        },
        "id": "Wm3me0im9ntb",
        "outputId": "e2081574-425b-4d75-ec94-30774b7cc70e"
      },
      "execution_count": null,
      "outputs": [
        {
          "output_type": "execute_result",
          "data": {
            "text/plain": [
              "                                                review  sentiment\n",
              "594  Attractive Marjorie(Farrah Fawcett)lives in fe...          0\n",
              "595  Savage Island (2003) is a lame movie. It's mor...          1\n",
              "596  These slasher pics are past their sell by date...          0\n",
              "597  What can I say? Not as bad as many here have m...          0\n",
              "598  Now I don't hate cheap movies. I just don't se...          1"
            ],
            "text/html": [
              "\n",
              "  <div id=\"df-bb57d06d-6960-48b4-b3b0-5f1d11f728cb\">\n",
              "    <div class=\"colab-df-container\">\n",
              "      <div>\n",
              "<style scoped>\n",
              "    .dataframe tbody tr th:only-of-type {\n",
              "        vertical-align: middle;\n",
              "    }\n",
              "\n",
              "    .dataframe tbody tr th {\n",
              "        vertical-align: top;\n",
              "    }\n",
              "\n",
              "    .dataframe thead th {\n",
              "        text-align: right;\n",
              "    }\n",
              "</style>\n",
              "<table border=\"1\" class=\"dataframe\">\n",
              "  <thead>\n",
              "    <tr style=\"text-align: right;\">\n",
              "      <th></th>\n",
              "      <th>review</th>\n",
              "      <th>sentiment</th>\n",
              "    </tr>\n",
              "  </thead>\n",
              "  <tbody>\n",
              "    <tr>\n",
              "      <th>594</th>\n",
              "      <td>Attractive Marjorie(Farrah Fawcett)lives in fe...</td>\n",
              "      <td>0</td>\n",
              "    </tr>\n",
              "    <tr>\n",
              "      <th>595</th>\n",
              "      <td>Savage Island (2003) is a lame movie. It's mor...</td>\n",
              "      <td>1</td>\n",
              "    </tr>\n",
              "    <tr>\n",
              "      <th>596</th>\n",
              "      <td>These slasher pics are past their sell by date...</td>\n",
              "      <td>0</td>\n",
              "    </tr>\n",
              "    <tr>\n",
              "      <th>597</th>\n",
              "      <td>What can I say? Not as bad as many here have m...</td>\n",
              "      <td>0</td>\n",
              "    </tr>\n",
              "    <tr>\n",
              "      <th>598</th>\n",
              "      <td>Now I don't hate cheap movies. I just don't se...</td>\n",
              "      <td>1</td>\n",
              "    </tr>\n",
              "  </tbody>\n",
              "</table>\n",
              "</div>\n",
              "      <button class=\"colab-df-convert\" onclick=\"convertToInteractive('df-bb57d06d-6960-48b4-b3b0-5f1d11f728cb')\"\n",
              "              title=\"Convert this dataframe to an interactive table.\"\n",
              "              style=\"display:none;\">\n",
              "        \n",
              "  <svg xmlns=\"http://www.w3.org/2000/svg\" height=\"24px\"viewBox=\"0 0 24 24\"\n",
              "       width=\"24px\">\n",
              "    <path d=\"M0 0h24v24H0V0z\" fill=\"none\"/>\n",
              "    <path d=\"M18.56 5.44l.94 2.06.94-2.06 2.06-.94-2.06-.94-.94-2.06-.94 2.06-2.06.94zm-11 1L8.5 8.5l.94-2.06 2.06-.94-2.06-.94L8.5 2.5l-.94 2.06-2.06.94zm10 10l.94 2.06.94-2.06 2.06-.94-2.06-.94-.94-2.06-.94 2.06-2.06.94z\"/><path d=\"M17.41 7.96l-1.37-1.37c-.4-.4-.92-.59-1.43-.59-.52 0-1.04.2-1.43.59L10.3 9.45l-7.72 7.72c-.78.78-.78 2.05 0 2.83L4 21.41c.39.39.9.59 1.41.59.51 0 1.02-.2 1.41-.59l7.78-7.78 2.81-2.81c.8-.78.8-2.07 0-2.86zM5.41 20L4 18.59l7.72-7.72 1.47 1.35L5.41 20z\"/>\n",
              "  </svg>\n",
              "      </button>\n",
              "      \n",
              "  <style>\n",
              "    .colab-df-container {\n",
              "      display:flex;\n",
              "      flex-wrap:wrap;\n",
              "      gap: 12px;\n",
              "    }\n",
              "\n",
              "    .colab-df-convert {\n",
              "      background-color: #E8F0FE;\n",
              "      border: none;\n",
              "      border-radius: 50%;\n",
              "      cursor: pointer;\n",
              "      display: none;\n",
              "      fill: #1967D2;\n",
              "      height: 32px;\n",
              "      padding: 0 0 0 0;\n",
              "      width: 32px;\n",
              "    }\n",
              "\n",
              "    .colab-df-convert:hover {\n",
              "      background-color: #E2EBFA;\n",
              "      box-shadow: 0px 1px 2px rgba(60, 64, 67, 0.3), 0px 1px 3px 1px rgba(60, 64, 67, 0.15);\n",
              "      fill: #174EA6;\n",
              "    }\n",
              "\n",
              "    [theme=dark] .colab-df-convert {\n",
              "      background-color: #3B4455;\n",
              "      fill: #D2E3FC;\n",
              "    }\n",
              "\n",
              "    [theme=dark] .colab-df-convert:hover {\n",
              "      background-color: #434B5C;\n",
              "      box-shadow: 0px 1px 3px 1px rgba(0, 0, 0, 0.15);\n",
              "      filter: drop-shadow(0px 1px 2px rgba(0, 0, 0, 0.3));\n",
              "      fill: #FFFFFF;\n",
              "    }\n",
              "  </style>\n",
              "\n",
              "      <script>\n",
              "        const buttonEl =\n",
              "          document.querySelector('#df-bb57d06d-6960-48b4-b3b0-5f1d11f728cb button.colab-df-convert');\n",
              "        buttonEl.style.display =\n",
              "          google.colab.kernel.accessAllowed ? 'block' : 'none';\n",
              "\n",
              "        async function convertToInteractive(key) {\n",
              "          const element = document.querySelector('#df-bb57d06d-6960-48b4-b3b0-5f1d11f728cb');\n",
              "          const dataTable =\n",
              "            await google.colab.kernel.invokeFunction('convertToInteractive',\n",
              "                                                     [key], {});\n",
              "          if (!dataTable) return;\n",
              "\n",
              "          const docLinkHtml = 'Like what you see? Visit the ' +\n",
              "            '<a target=\"_blank\" href=https://colab.research.google.com/notebooks/data_table.ipynb>data table notebook</a>'\n",
              "            + ' to learn more about interactive tables.';\n",
              "          element.innerHTML = '';\n",
              "          dataTable['output_type'] = 'display_data';\n",
              "          await google.colab.output.renderOutput(dataTable, element);\n",
              "          const docLink = document.createElement('div');\n",
              "          docLink.innerHTML = docLinkHtml;\n",
              "          element.appendChild(docLink);\n",
              "        }\n",
              "      </script>\n",
              "    </div>\n",
              "  </div>\n",
              "  "
            ]
          },
          "metadata": {},
          "execution_count": 40
        }
      ]
    },
    {
      "cell_type": "code",
      "source": [
        "df_valid.head()"
      ],
      "metadata": {
        "colab": {
          "base_uri": "https://localhost:8080/",
          "height": 206
        },
        "id": "3Hf8dXZ69qck",
        "outputId": "4b314635-2bee-443a-848a-997a7227f799"
      },
      "execution_count": null,
      "outputs": [
        {
          "output_type": "execute_result",
          "data": {
            "text/plain": [
              "                                              review  sentiment\n",
              "0  It is incredible that there were two films wit...          1\n",
              "1  Coen Brothers-wannabe from writer-director Pau...          1\n",
              "2  it got switched off before the opening credits...          1\n",
              "3  i am finally seeing the El Padrino movie, from...          0\n",
              "4  This movie really woke me up, like it wakes up...          0"
            ],
            "text/html": [
              "\n",
              "  <div id=\"df-97c06577-298f-47b5-82c5-daf1e295cac7\">\n",
              "    <div class=\"colab-df-container\">\n",
              "      <div>\n",
              "<style scoped>\n",
              "    .dataframe tbody tr th:only-of-type {\n",
              "        vertical-align: middle;\n",
              "    }\n",
              "\n",
              "    .dataframe tbody tr th {\n",
              "        vertical-align: top;\n",
              "    }\n",
              "\n",
              "    .dataframe thead th {\n",
              "        text-align: right;\n",
              "    }\n",
              "</style>\n",
              "<table border=\"1\" class=\"dataframe\">\n",
              "  <thead>\n",
              "    <tr style=\"text-align: right;\">\n",
              "      <th></th>\n",
              "      <th>review</th>\n",
              "      <th>sentiment</th>\n",
              "    </tr>\n",
              "  </thead>\n",
              "  <tbody>\n",
              "    <tr>\n",
              "      <th>0</th>\n",
              "      <td>It is incredible that there were two films wit...</td>\n",
              "      <td>1</td>\n",
              "    </tr>\n",
              "    <tr>\n",
              "      <th>1</th>\n",
              "      <td>Coen Brothers-wannabe from writer-director Pau...</td>\n",
              "      <td>1</td>\n",
              "    </tr>\n",
              "    <tr>\n",
              "      <th>2</th>\n",
              "      <td>it got switched off before the opening credits...</td>\n",
              "      <td>1</td>\n",
              "    </tr>\n",
              "    <tr>\n",
              "      <th>3</th>\n",
              "      <td>i am finally seeing the El Padrino movie, from...</td>\n",
              "      <td>0</td>\n",
              "    </tr>\n",
              "    <tr>\n",
              "      <th>4</th>\n",
              "      <td>This movie really woke me up, like it wakes up...</td>\n",
              "      <td>0</td>\n",
              "    </tr>\n",
              "  </tbody>\n",
              "</table>\n",
              "</div>\n",
              "      <button class=\"colab-df-convert\" onclick=\"convertToInteractive('df-97c06577-298f-47b5-82c5-daf1e295cac7')\"\n",
              "              title=\"Convert this dataframe to an interactive table.\"\n",
              "              style=\"display:none;\">\n",
              "        \n",
              "  <svg xmlns=\"http://www.w3.org/2000/svg\" height=\"24px\"viewBox=\"0 0 24 24\"\n",
              "       width=\"24px\">\n",
              "    <path d=\"M0 0h24v24H0V0z\" fill=\"none\"/>\n",
              "    <path d=\"M18.56 5.44l.94 2.06.94-2.06 2.06-.94-2.06-.94-.94-2.06-.94 2.06-2.06.94zm-11 1L8.5 8.5l.94-2.06 2.06-.94-2.06-.94L8.5 2.5l-.94 2.06-2.06.94zm10 10l.94 2.06.94-2.06 2.06-.94-2.06-.94-.94-2.06-.94 2.06-2.06.94z\"/><path d=\"M17.41 7.96l-1.37-1.37c-.4-.4-.92-.59-1.43-.59-.52 0-1.04.2-1.43.59L10.3 9.45l-7.72 7.72c-.78.78-.78 2.05 0 2.83L4 21.41c.39.39.9.59 1.41.59.51 0 1.02-.2 1.41-.59l7.78-7.78 2.81-2.81c.8-.78.8-2.07 0-2.86zM5.41 20L4 18.59l7.72-7.72 1.47 1.35L5.41 20z\"/>\n",
              "  </svg>\n",
              "      </button>\n",
              "      \n",
              "  <style>\n",
              "    .colab-df-container {\n",
              "      display:flex;\n",
              "      flex-wrap:wrap;\n",
              "      gap: 12px;\n",
              "    }\n",
              "\n",
              "    .colab-df-convert {\n",
              "      background-color: #E8F0FE;\n",
              "      border: none;\n",
              "      border-radius: 50%;\n",
              "      cursor: pointer;\n",
              "      display: none;\n",
              "      fill: #1967D2;\n",
              "      height: 32px;\n",
              "      padding: 0 0 0 0;\n",
              "      width: 32px;\n",
              "    }\n",
              "\n",
              "    .colab-df-convert:hover {\n",
              "      background-color: #E2EBFA;\n",
              "      box-shadow: 0px 1px 2px rgba(60, 64, 67, 0.3), 0px 1px 3px 1px rgba(60, 64, 67, 0.15);\n",
              "      fill: #174EA6;\n",
              "    }\n",
              "\n",
              "    [theme=dark] .colab-df-convert {\n",
              "      background-color: #3B4455;\n",
              "      fill: #D2E3FC;\n",
              "    }\n",
              "\n",
              "    [theme=dark] .colab-df-convert:hover {\n",
              "      background-color: #434B5C;\n",
              "      box-shadow: 0px 1px 3px 1px rgba(0, 0, 0, 0.15);\n",
              "      filter: drop-shadow(0px 1px 2px rgba(0, 0, 0, 0.3));\n",
              "      fill: #FFFFFF;\n",
              "    }\n",
              "  </style>\n",
              "\n",
              "      <script>\n",
              "        const buttonEl =\n",
              "          document.querySelector('#df-97c06577-298f-47b5-82c5-daf1e295cac7 button.colab-df-convert');\n",
              "        buttonEl.style.display =\n",
              "          google.colab.kernel.accessAllowed ? 'block' : 'none';\n",
              "\n",
              "        async function convertToInteractive(key) {\n",
              "          const element = document.querySelector('#df-97c06577-298f-47b5-82c5-daf1e295cac7');\n",
              "          const dataTable =\n",
              "            await google.colab.kernel.invokeFunction('convertToInteractive',\n",
              "                                                     [key], {});\n",
              "          if (!dataTable) return;\n",
              "\n",
              "          const docLinkHtml = 'Like what you see? Visit the ' +\n",
              "            '<a target=\"_blank\" href=https://colab.research.google.com/notebooks/data_table.ipynb>data table notebook</a>'\n",
              "            + ' to learn more about interactive tables.';\n",
              "          element.innerHTML = '';\n",
              "          dataTable['output_type'] = 'display_data';\n",
              "          await google.colab.output.renderOutput(dataTable, element);\n",
              "          const docLink = document.createElement('div');\n",
              "          docLink.innerHTML = docLinkHtml;\n",
              "          element.appendChild(docLink);\n",
              "        }\n",
              "      </script>\n",
              "    </div>\n",
              "  </div>\n",
              "  "
            ]
          },
          "metadata": {},
          "execution_count": 41
        }
      ]
    },
    {
      "cell_type": "markdown",
      "source": [
        "#Data Distribution"
      ],
      "metadata": {
        "id": "weIM7pqZacak"
      }
    },
    {
      "cell_type": "code",
      "source": [
        "df.sentiment.value_counts()"
      ],
      "metadata": {
        "colab": {
          "base_uri": "https://localhost:8080/"
        },
        "id": "p4gync2OaV5P",
        "outputId": "5e6a1440-9c4d-4043-be53-7351b4828035"
      },
      "execution_count": null,
      "outputs": [
        {
          "output_type": "execute_result",
          "data": {
            "text/plain": [
              "positive    501\n",
              "negative    499\n",
              "Name: sentiment, dtype: int64"
            ]
          },
          "metadata": {},
          "execution_count": 19
        }
      ]
    },
    {
      "cell_type": "code",
      "source": [
        "import numpy as np\n",
        "import matplotlib.pyplot as plt\n",
        " \n",
        "distribution = dict(df.sentiment.value_counts())\n",
        "sentiments = distribution.keys()\n",
        "counts = distribution.values()\n",
        "  \n",
        "fig = plt.figure(figsize = (10, 5))\n",
        " \n",
        "# creating the bar plot\n",
        "plt.bar(sentiments, counts, color ='green',\n",
        "        width = 0.4)\n",
        " \n",
        "plt.xlabel(\"Sentiment\")\n",
        "plt.ylabel(\"Count of revies\")\n",
        "plt.title(\"Sentiment distribution\")\n",
        "plt.show()"
      ],
      "metadata": {
        "colab": {
          "base_uri": "https://localhost:8080/",
          "height": 350
        },
        "id": "RxlytZahaq_y",
        "outputId": "8ff00aa5-435a-4d09-fde4-ef63cb81730d"
      },
      "execution_count": null,
      "outputs": [
        {
          "output_type": "display_data",
          "data": {
            "text/plain": [
              "<Figure size 720x360 with 1 Axes>"
            ],
            "image/png": "[encoded data removed]"
          },
          "metadata": {
            "needs_background": "light"
          }
        }
      ]
    },
    {
      "cell_type": "code",
      "source": [
        "!pip install transformers==3.0.0"
      ],
      "metadata": {
        "colab": {
          "base_uri": "https://localhost:8080/"
        },
        "id": "vCbTRYmObD3F",
        "outputId": "640cdee1-8127-4c0f-b140-9d1d3b67eefe"
      },
      "execution_count": null,
      "outputs": [
        {
          "output_type": "stream",
          "name": "stdout",
          "text": [
            "Requirement already satisfied: transformers==3.0.0 in /usr/local/lib/python3.7/dist-packages (3.0.0)\n",
            "Requirement already satisfied: sacremoses in /usr/local/lib/python3.7/dist-packages (from transformers==3.0.0) (0.0.53)\n",
            "Requirement already satisfied: regex!=2019.12.17 in /usr/local/lib/python3.7/dist-packages (from transformers==3.0.0) (2019.12.20)\n",
            "Requirement already satisfied: requests in /usr/local/lib/python3.7/dist-packages (from transformers==3.0.0) (2.23.0)\n",
            "Requirement already satisfied: packaging in /usr/local/lib/python3.7/dist-packages (from transformers==3.0.0) (21.3)\n",
            "Requirement already satisfied: tokenizers==0.8.0-rc4 in /usr/local/lib/python3.7/dist-packages (from transformers==3.0.0) (0.8.0rc4)\n",
            "Requirement already satisfied: numpy in /usr/local/lib/python3.7/dist-packages (from transformers==3.0.0) (1.21.6)\n",
            "Requirement already satisfied: filelock in /usr/local/lib/python3.7/dist-packages (from transformers==3.0.0) (3.6.0)\n",
            "Requirement already satisfied: tqdm>=4.27 in /usr/local/lib/python3.7/dist-packages (from transformers==3.0.0) (4.64.0)\n",
            "Requirement already satisfied: sentencepiece in /usr/local/lib/python3.7/dist-packages (from transformers==3.0.0) (0.1.96)\n",
            "Requirement already satisfied: pyparsing!=3.0.5,>=2.0.2 in /usr/local/lib/python3.7/dist-packages (from packaging->transformers==3.0.0) (3.0.8)\n",
            "Requirement already satisfied: chardet<4,>=3.0.2 in /usr/local/lib/python3.7/dist-packages (from requests->transformers==3.0.0) (3.0.4)\n",
            "Requirement already satisfied: certifi>=2017.4.17 in /usr/local/lib/python3.7/dist-packages (from requests->transformers==3.0.0) (2021.10.8)\n",
            "Requirement already satisfied: urllib3!=1.25.0,!=1.25.1,<1.26,>=1.21.1 in /usr/local/lib/python3.7/dist-packages (from requests->transformers==3.0.0) (1.24.3)\n",
            "Requirement already satisfied: idna<3,>=2.5 in /usr/local/lib/python3.7/dist-packages (from requests->transformers==3.0.0) (2.10)\n",
            "Requirement already satisfied: click in /usr/local/lib/python3.7/dist-packages (from sacremoses->transformers==3.0.0) (7.1.2)\n",
            "Requirement already satisfied: six in /usr/local/lib/python3.7/dist-packages (from sacremoses->transformers==3.0.0) (1.15.0)\n",
            "Requirement already satisfied: joblib in /usr/local/lib/python3.7/dist-packages (from sacremoses->transformers==3.0.0) (1.1.0)\n"
          ]
        }
      ]
    },
    {
      "cell_type": "markdown",
      "source": [
        "#Importing Libraries"
      ],
      "metadata": {
        "id": "Gdo9YyZA4l1H"
      }
    },
    {
      "cell_type": "code",
      "source": [
        "#@title Importing Libraries\n",
        "\n",
        "import torch\n",
        "import torch.nn as nn\n",
        "import pandas as pd\n",
        "import numpy as np\n",
        "import matplotlib.pyplot as plt\n",
        "import transformers\n",
        "from transformers import BertModel, BertTokenizer, AdamW, get_linear_schedule_with_warmup\n",
        "from torch.optim import lr_scheduler\n",
        "from bs4 import BeautifulSoup \n",
        "\n",
        "import pandas as pd\n",
        "import numpy as np\n",
        "import os\n",
        "import shutil\n",
        "\n",
        "import logging\n",
        "logging.basicConfig(level=logging.ERROR)\n",
        "\n",
        "#import warnings\n",
        "#warnings.filterwarnings(\"ignore\")"
      ],
      "metadata": {
        "id": "JSeYs_Urcyzo"
      },
      "execution_count": null,
      "outputs": []
    },
    {
      "cell_type": "code",
      "source": [
        "device = torch.device(\"cuda:0\" if torch.cuda.is_available() else \"cpu\")\n",
        "print(f\"Device: {device}\")\n"
      ],
      "metadata": {
        "colab": {
          "base_uri": "https://localhost:8080/"
        },
        "id": "-D8l0ytOc2Wa",
        "outputId": "49d33aea-2663-45d0-dce4-8d5af5d2695d"
      },
      "execution_count": null,
      "outputs": [
        {
          "output_type": "stream",
          "name": "stdout",
          "text": [
            "Device: cuda:0\n"
          ]
        }
      ]
    },
    {
      "cell_type": "markdown",
      "source": [
        "#Sentiment Classifier\n",
        "This class defines the model architecture which is simply a fully-connected\n",
        "layer on top of a pre-trained BERT model."
      ],
      "metadata": {
        "id": "W_caNUzk4tG6"
      }
    },
    {
      "cell_type": "code",
      "source": [
        "class SentimentClassifier(nn.Module):\n",
        "  \"\"\"\n",
        "  This class defines the model architecture which is simply a fully-connected\n",
        "  layer on top of a pre-trained BERT model. \n",
        "  \"\"\"\n",
        "\n",
        "  def __init__(self, BERT_MODEL):\n",
        "    super(SentimentClassifier, self).__init__()\n",
        "    self.bert = BertModel.from_pretrained(BERT_MODEL)\n",
        "    self.drop = nn.Dropout(p=0.3)\n",
        "    self.out = nn.Linear(self.bert.config.hidden_size, 2) # Number of output classes = 2\n",
        "\n",
        "  def forward(self, ids, mask, token_type_ids):\n",
        "    last_hidden_state, pooled_output = self.bert(ids, attention_mask=mask, token_type_ids=token_type_ids)\n",
        "    output = self.drop(pooled_output)\n",
        "    return self.out(output)"
      ],
      "metadata": {
        "id": "P-8muni8bEMP"
      },
      "execution_count": null,
      "outputs": []
    },
    {
      "cell_type": "code",
      "source": [
        "from torchsummary import summary\n",
        "BERT_MODEL = 'bert-base-uncased'\n",
        "model = SentimentClassifier(BERT_MODEL)\n",
        "model = model.to(device)\n"
      ],
      "metadata": {
        "id": "-B8LMW6rySGX"
      },
      "execution_count": null,
      "outputs": []
    },
    {
      "cell_type": "markdown",
      "source": [
        "#"
      ],
      "metadata": {
        "id": "scx4M_lk4zgO"
      }
    },
    {
      "cell_type": "markdown",
      "source": [
        "#Model"
      ],
      "metadata": {
        "id": "x7dPIpps40YJ"
      }
    },
    {
      "cell_type": "code",
      "source": [
        "print(model)"
      ],
      "metadata": {
        "colab": {
          "base_uri": "https://localhost:8080/"
        },
        "id": "cFK8YW6VzF0z",
        "outputId": "2b80fb6e-4d49-43e4-a847-f162d36c35d1"
      },
      "execution_count": null,
      "outputs": [
        {
          "output_type": "stream",
          "name": "stdout",
          "text": [
            "SentimentClassifier(\n",
            "  (bert): BertModel(\n",
            "    (embeddings): BertEmbeddings(\n",
            "      (word_embeddings): Embedding(30522, 768, padding_idx=0)\n",
            "      (position_embeddings): Embedding(512, 768)\n",
            "      (token_type_embeddings): Embedding(2, 768)\n",
            "      (LayerNorm): LayerNorm((768,), eps=1e-12, elementwise_affine=True)\n",
            "      (dropout): Dropout(p=0.1, inplace=False)\n",
            "    )\n",
            "    (encoder): BertEncoder(\n",
            "      (layer): ModuleList(\n",
            "        (0): BertLayer(\n",
            "          (attention): BertAttention(\n",
            "            (self): BertSelfAttention(\n",
            "              (query): Linear(in_features=768, out_features=768, bias=True)\n",
            "              (key): Linear(in_features=768, out_features=768, bias=True)\n",
            "              (value): Linear(in_features=768, out_features=768, bias=True)\n",
            "              (dropout): Dropout(p=0.1, inplace=False)\n",
            "            )\n",
            "            (output): BertSelfOutput(\n",
            "              (dense): Linear(in_features=768, out_features=768, bias=True)\n",
            "              (LayerNorm): LayerNorm((768,), eps=1e-12, elementwise_affine=True)\n",
            "              (dropout): Dropout(p=0.1, inplace=False)\n",
            "            )\n",
            "          )\n",
            "          (intermediate): BertIntermediate(\n",
            "            (dense): Linear(in_features=768, out_features=3072, bias=True)\n",
            "          )\n",
            "          (output): BertOutput(\n",
            "            (dense): Linear(in_features=3072, out_features=768, bias=True)\n",
            "            (LayerNorm): LayerNorm((768,), eps=1e-12, elementwise_affine=True)\n",
            "            (dropout): Dropout(p=0.1, inplace=False)\n",
            "          )\n",
            "        )\n",
            "        (1): BertLayer(\n",
            "          (attention): BertAttention(\n",
            "            (self): BertSelfAttention(\n",
            "              (query): Linear(in_features=768, out_features=768, bias=True)\n",
            "              (key): Linear(in_features=768, out_features=768, bias=True)\n",
            "              (value): Linear(in_features=768, out_features=768, bias=True)\n",
            "              (dropout): Dropout(p=0.1, inplace=False)\n",
            "            )\n",
            "            (output): BertSelfOutput(\n",
            "              (dense): Linear(in_features=768, out_features=768, bias=True)\n",
            "              (LayerNorm): LayerNorm((768,), eps=1e-12, elementwise_affine=True)\n",
            "              (dropout): Dropout(p=0.1, inplace=False)\n",
            "            )\n",
            "          )\n",
            "          (intermediate): BertIntermediate(\n",
            "            (dense): Linear(in_features=768, out_features=3072, bias=True)\n",
            "          )\n",
            "          (output): BertOutput(\n",
            "            (dense): Linear(in_features=3072, out_features=768, bias=True)\n",
            "            (LayerNorm): LayerNorm((768,), eps=1e-12, elementwise_affine=True)\n",
            "            (dropout): Dropout(p=0.1, inplace=False)\n",
            "          )\n",
            "        )\n",
            "        (2): BertLayer(\n",
            "          (attention): BertAttention(\n",
            "            (self): BertSelfAttention(\n",
            "              (query): Linear(in_features=768, out_features=768, bias=True)\n",
            "              (key): Linear(in_features=768, out_features=768, bias=True)\n",
            "              (value): Linear(in_features=768, out_features=768, bias=True)\n",
            "              (dropout): Dropout(p=0.1, inplace=False)\n",
            "            )\n",
            "            (output): BertSelfOutput(\n",
            "              (dense): Linear(in_features=768, out_features=768, bias=True)\n",
            "              (LayerNorm): LayerNorm((768,), eps=1e-12, elementwise_affine=True)\n",
            "              (dropout): Dropout(p=0.1, inplace=False)\n",
            "            )\n",
            "          )\n",
            "          (intermediate): BertIntermediate(\n",
            "            (dense): Linear(in_features=768, out_features=3072, bias=True)\n",
            "          )\n",
            "          (output): BertOutput(\n",
            "            (dense): Linear(in_features=3072, out_features=768, bias=True)\n",
            "            (LayerNorm): LayerNorm((768,), eps=1e-12, elementwise_affine=True)\n",
            "            (dropout): Dropout(p=0.1, inplace=False)\n",
            "          )\n",
            "        )\n",
            "        (3): BertLayer(\n",
            "          (attention): BertAttention(\n",
            "            (self): BertSelfAttention(\n",
            "              (query): Linear(in_features=768, out_features=768, bias=True)\n",
            "              (key): Linear(in_features=768, out_features=768, bias=True)\n",
            "              (value): Linear(in_features=768, out_features=768, bias=True)\n",
            "              (dropout): Dropout(p=0.1, inplace=False)\n",
            "            )\n",
            "            (output): BertSelfOutput(\n",
            "              (dense): Linear(in_features=768, out_features=768, bias=True)\n",
            "              (LayerNorm): LayerNorm((768,), eps=1e-12, elementwise_affine=True)\n",
            "              (dropout): Dropout(p=0.1, inplace=False)\n",
            "            )\n",
            "          )\n",
            "          (intermediate): BertIntermediate(\n",
            "            (dense): Linear(in_features=768, out_features=3072, bias=True)\n",
            "          )\n",
            "          (output): BertOutput(\n",
            "            (dense): Linear(in_features=3072, out_features=768, bias=True)\n",
            "            (LayerNorm): LayerNorm((768,), eps=1e-12, elementwise_affine=True)\n",
            "            (dropout): Dropout(p=0.1, inplace=False)\n",
            "          )\n",
            "        )\n",
            "        (4): BertLayer(\n",
            "          (attention): BertAttention(\n",
            "            (self): BertSelfAttention(\n",
            "              (query): Linear(in_features=768, out_features=768, bias=True)\n",
            "              (key): Linear(in_features=768, out_features=768, bias=True)\n",
            "              (value): Linear(in_features=768, out_features=768, bias=True)\n",
            "              (dropout): Dropout(p=0.1, inplace=False)\n",
            "            )\n",
            "            (output): BertSelfOutput(\n",
            "              (dense): Linear(in_features=768, out_features=768, bias=True)\n",
            "              (LayerNorm): LayerNorm((768,), eps=1e-12, elementwise_affine=True)\n",
            "              (dropout): Dropout(p=0.1, inplace=False)\n",
            "            )\n",
            "          )\n",
            "          (intermediate): BertIntermediate(\n",
            "            (dense): Linear(in_features=768, out_features=3072, bias=True)\n",
            "          )\n",
            "          (output): BertOutput(\n",
            "            (dense): Linear(in_features=3072, out_features=768, bias=True)\n",
            "            (LayerNorm): LayerNorm((768,), eps=1e-12, elementwise_affine=True)\n",
            "            (dropout): Dropout(p=0.1, inplace=False)\n",
            "          )\n",
            "        )\n",
            "        (5): BertLayer(\n",
            "          (attention): BertAttention(\n",
            "            (self): BertSelfAttention(\n",
            "              (query): Linear(in_features=768, out_features=768, bias=True)\n",
            "              (key): Linear(in_features=768, out_features=768, bias=True)\n",
            "              (value): Linear(in_features=768, out_features=768, bias=True)\n",
            "              (dropout): Dropout(p=0.1, inplace=False)\n",
            "            )\n",
            "            (output): BertSelfOutput(\n",
            "              (dense): Linear(in_features=768, out_features=768, bias=True)\n",
            "              (LayerNorm): LayerNorm((768,), eps=1e-12, elementwise_affine=True)\n",
            "              (dropout): Dropout(p=0.1, inplace=False)\n",
            "            )\n",
            "          )\n",
            "          (intermediate): BertIntermediate(\n",
            "            (dense): Linear(in_features=768, out_features=3072, bias=True)\n",
            "          )\n",
            "          (output): BertOutput(\n",
            "            (dense): Linear(in_features=3072, out_features=768, bias=True)\n",
            "            (LayerNorm): LayerNorm((768,), eps=1e-12, elementwise_affine=True)\n",
            "            (dropout): Dropout(p=0.1, inplace=False)\n",
            "          )\n",
            "        )\n",
            "        (6): BertLayer(\n",
            "          (attention): BertAttention(\n",
            "            (self): BertSelfAttention(\n",
            "              (query): Linear(in_features=768, out_features=768, bias=True)\n",
            "              (key): Linear(in_features=768, out_features=768, bias=True)\n",
            "              (value): Linear(in_features=768, out_features=768, bias=True)\n",
            "              (dropout): Dropout(p=0.1, inplace=False)\n",
            "            )\n",
            "            (output): BertSelfOutput(\n",
            "              (dense): Linear(in_features=768, out_features=768, bias=True)\n",
            "              (LayerNorm): LayerNorm((768,), eps=1e-12, elementwise_affine=True)\n",
            "              (dropout): Dropout(p=0.1, inplace=False)\n",
            "            )\n",
            "          )\n",
            "          (intermediate): BertIntermediate(\n",
            "            (dense): Linear(in_features=768, out_features=3072, bias=True)\n",
            "          )\n",
            "          (output): BertOutput(\n",
            "            (dense): Linear(in_features=3072, out_features=768, bias=True)\n",
            "            (LayerNorm): LayerNorm((768,), eps=1e-12, elementwise_affine=True)\n",
            "            (dropout): Dropout(p=0.1, inplace=False)\n",
            "          )\n",
            "        )\n",
            "        (7): BertLayer(\n",
            "          (attention): BertAttention(\n",
            "            (self): BertSelfAttention(\n",
            "              (query): Linear(in_features=768, out_features=768, bias=True)\n",
            "              (key): Linear(in_features=768, out_features=768, bias=True)\n",
            "              (value): Linear(in_features=768, out_features=768, bias=True)\n",
            "              (dropout): Dropout(p=0.1, inplace=False)\n",
            "            )\n",
            "            (output): BertSelfOutput(\n",
            "              (dense): Linear(in_features=768, out_features=768, bias=True)\n",
            "              (LayerNorm): LayerNorm((768,), eps=1e-12, elementwise_affine=True)\n",
            "              (dropout): Dropout(p=0.1, inplace=False)\n",
            "            )\n",
            "          )\n",
            "          (intermediate): BertIntermediate(\n",
            "            (dense): Linear(in_features=768, out_features=3072, bias=True)\n",
            "          )\n",
            "          (output): BertOutput(\n",
            "            (dense): Linear(in_features=3072, out_features=768, bias=True)\n",
            "            (LayerNorm): LayerNorm((768,), eps=1e-12, elementwise_affine=True)\n",
            "            (dropout): Dropout(p=0.1, inplace=False)\n",
            "          )\n",
            "        )\n",
            "        (8): BertLayer(\n",
            "          (attention): BertAttention(\n",
            "            (self): BertSelfAttention(\n",
            "              (query): Linear(in_features=768, out_features=768, bias=True)\n",
            "              (key): Linear(in_features=768, out_features=768, bias=True)\n",
            "              (value): Linear(in_features=768, out_features=768, bias=True)\n",
            "              (dropout): Dropout(p=0.1, inplace=False)\n",
            "            )\n",
            "            (output): BertSelfOutput(\n",
            "              (dense): Linear(in_features=768, out_features=768, bias=True)\n",
            "              (LayerNorm): LayerNorm((768,), eps=1e-12, elementwise_affine=True)\n",
            "              (dropout): Dropout(p=0.1, inplace=False)\n",
            "            )\n",
            "          )\n",
            "          (intermediate): BertIntermediate(\n",
            "            (dense): Linear(in_features=768, out_features=3072, bias=True)\n",
            "          )\n",
            "          (output): BertOutput(\n",
            "            (dense): Linear(in_features=3072, out_features=768, bias=True)\n",
            "            (LayerNorm): LayerNorm((768,), eps=1e-12, elementwise_affine=True)\n",
            "            (dropout): Dropout(p=0.1, inplace=False)\n",
            "          )\n",
            "        )\n",
            "        (9): BertLayer(\n",
            "          (attention): BertAttention(\n",
            "            (self): BertSelfAttention(\n",
            "              (query): Linear(in_features=768, out_features=768, bias=True)\n",
            "              (key): Linear(in_features=768, out_features=768, bias=True)\n",
            "              (value): Linear(in_features=768, out_features=768, bias=True)\n",
            "              (dropout): Dropout(p=0.1, inplace=False)\n",
            "            )\n",
            "            (output): BertSelfOutput(\n",
            "              (dense): Linear(in_features=768, out_features=768, bias=True)\n",
            "              (LayerNorm): LayerNorm((768,), eps=1e-12, elementwise_affine=True)\n",
            "              (dropout): Dropout(p=0.1, inplace=False)\n",
            "            )\n",
            "          )\n",
            "          (intermediate): BertIntermediate(\n",
            "            (dense): Linear(in_features=768, out_features=3072, bias=True)\n",
            "          )\n",
            "          (output): BertOutput(\n",
            "            (dense): Linear(in_features=3072, out_features=768, bias=True)\n",
            "            (LayerNorm): LayerNorm((768,), eps=1e-12, elementwise_affine=True)\n",
            "            (dropout): Dropout(p=0.1, inplace=False)\n",
            "          )\n",
            "        )\n",
            "        (10): BertLayer(\n",
            "          (attention): BertAttention(\n",
            "            (self): BertSelfAttention(\n",
            "              (query): Linear(in_features=768, out_features=768, bias=True)\n",
            "              (key): Linear(in_features=768, out_features=768, bias=True)\n",
            "              (value): Linear(in_features=768, out_features=768, bias=True)\n",
            "              (dropout): Dropout(p=0.1, inplace=False)\n",
            "            )\n",
            "            (output): BertSelfOutput(\n",
            "              (dense): Linear(in_features=768, out_features=768, bias=True)\n",
            "              (LayerNorm): LayerNorm((768,), eps=1e-12, elementwise_affine=True)\n",
            "              (dropout): Dropout(p=0.1, inplace=False)\n",
            "            )\n",
            "          )\n",
            "          (intermediate): BertIntermediate(\n",
            "            (dense): Linear(in_features=768, out_features=3072, bias=True)\n",
            "          )\n",
            "          (output): BertOutput(\n",
            "            (dense): Linear(in_features=3072, out_features=768, bias=True)\n",
            "            (LayerNorm): LayerNorm((768,), eps=1e-12, elementwise_affine=True)\n",
            "            (dropout): Dropout(p=0.1, inplace=False)\n",
            "          )\n",
            "        )\n",
            "        (11): BertLayer(\n",
            "          (attention): BertAttention(\n",
            "            (self): BertSelfAttention(\n",
            "              (query): Linear(in_features=768, out_features=768, bias=True)\n",
            "              (key): Linear(in_features=768, out_features=768, bias=True)\n",
            "              (value): Linear(in_features=768, out_features=768, bias=True)\n",
            "              (dropout): Dropout(p=0.1, inplace=False)\n",
            "            )\n",
            "            (output): BertSelfOutput(\n",
            "              (dense): Linear(in_features=768, out_features=768, bias=True)\n",
            "              (LayerNorm): LayerNorm((768,), eps=1e-12, elementwise_affine=True)\n",
            "              (dropout): Dropout(p=0.1, inplace=False)\n",
            "            )\n",
            "          )\n",
            "          (intermediate): BertIntermediate(\n",
            "            (dense): Linear(in_features=768, out_features=3072, bias=True)\n",
            "          )\n",
            "          (output): BertOutput(\n",
            "            (dense): Linear(in_features=3072, out_features=768, bias=True)\n",
            "            (LayerNorm): LayerNorm((768,), eps=1e-12, elementwise_affine=True)\n",
            "            (dropout): Dropout(p=0.1, inplace=False)\n",
            "          )\n",
            "        )\n",
            "      )\n",
            "    )\n",
            "    (pooler): BertPooler(\n",
            "      (dense): Linear(in_features=768, out_features=768, bias=True)\n",
            "      (activation): Tanh()\n",
            "    )\n",
            "  )\n",
            "  (drop): Dropout(p=0.3, inplace=False)\n",
            "  (out): Linear(in_features=768, out_features=2, bias=True)\n",
            ")\n"
          ]
        }
      ]
    },
    {
      "cell_type": "markdown",
      "source": [
        "#Utiliti Tokenizer\n",
        "This class tokenizes the input text using the pre-trained BERT tokenizer (wordpiece) and returns the corresponding tensors."
      ],
      "metadata": {
        "id": "DHgNbDQz47g3"
      }
    },
    {
      "cell_type": "code",
      "source": [
        "class util_tokenizer:\n",
        "  \"\"\"\n",
        "  This class tokenizes the input text using the pre-trained BERT tokenizer \n",
        "  (wordpiece) and returns the corresponding tensors.\n",
        "  \"\"\"\n",
        "\n",
        "  def __init__(self, text, targets, tokenizer, max_len):\n",
        "    self.text = text\n",
        "    self.tokenizer = tokenizer\n",
        "    self.max_len = max_len\n",
        "    self.targets = targets\n",
        "\n",
        "  def __len__(self):\n",
        "    return len(self.targets)\n",
        "  \n",
        "  def __getitem__(self, item):\n",
        "    text = str(self.text[item])\n",
        "    targets = self.targets[item]\n",
        "\n",
        "    inputs = self.tokenizer.encode_plus(\n",
        "        text,\n",
        "        add_special_tokens = True,\n",
        "        max_length = self.max_len,\n",
        "        pad_to_max_length = True\n",
        "    )\n",
        "\n",
        "    ids = inputs[\"input_ids\"]\n",
        "    mask = inputs[\"attention_mask\"]\n",
        "    token_type_ids = inputs[\"token_type_ids\"]\n",
        "\n",
        "    return {\n",
        "        \"ids\": torch.tensor(ids, dtype=torch.long),\n",
        "        \"mask\": torch.tensor(mask, dtype=torch.long),\n",
        "        \"token_type_ids\": torch.tensor(token_type_ids, dtype=torch.long),\n",
        "        \"targets\": torch.tensor(targets, dtype=torch.long)\n",
        "    }"
      ],
      "metadata": {
        "id": "e24L5gpp57Ee"
      },
      "execution_count": null,
      "outputs": []
    },
    {
      "cell_type": "markdown",
      "source": [
        "#Loss Function"
      ],
      "metadata": {
        "id": "B242cnNQ44Kv"
      }
    },
    {
      "cell_type": "code",
      "source": [
        "def loss_function(outputs, targets):\n",
        "\t\"\"\"\n",
        "\tThis function defines the loss function which is used to train the model, i.e.\n",
        "\tCrossEntropy.\n",
        "\t\"\"\"\n",
        "\treturn nn.CrossEntropyLoss(reduction='mean')(outputs, targets)"
      ],
      "metadata": {
        "id": "4P00jvKN57Eh"
      },
      "execution_count": null,
      "outputs": []
    },
    {
      "cell_type": "markdown",
      "source": [
        "#Train Function\n",
        "This function defines the training loop over the entire training set."
      ],
      "metadata": {
        "id": "bHB1V61q5Ey9"
      }
    },
    {
      "cell_type": "code",
      "source": [
        "def train_loop_function(data_loader, model, optimizer, device):\n",
        "  \"\"\"\n",
        "  This function defines the training loop over the entire training set.\n",
        "  \"\"\"\n",
        "\n",
        "  model.train()\n",
        "  loss_list =[]\n",
        "  running_loss = 0.0\n",
        "  count=0\n",
        "  for bi, d in enumerate(data_loader):\n",
        "    #print(bi)\n",
        "    #print(d)\n",
        "    if(count%100 ==0):\n",
        "      print(count,\"count\")\n",
        "    count+=1\n",
        "    ids = d[\"ids\"]\n",
        "    mask = d[\"mask\"]\n",
        "    token_type_ids = d[\"token_type_ids\"]\n",
        "    targets = d[\"targets\"]\n",
        "    #print(ids,mask,token_type_ids,targets)\n",
        "\n",
        "    ids = ids.to(device, dtype=torch.long)\n",
        "    mask = mask.to(device, dtype=torch.long)\n",
        "    token_type_ids = token_type_ids.to(device, dtype=torch.long)\n",
        "    targets = targets.to(device, dtype=torch.long)\n",
        "\n",
        "\n",
        "    optimizer.zero_grad()\n",
        "\n",
        "    outputs = model(ids=ids, mask=mask, token_type_ids=token_type_ids)\n",
        "    loss = loss_function(outputs, targets)\n",
        "\n",
        "    loss.backward()\n",
        "    optimizer.step()\n",
        "\n",
        "    running_loss += loss.item()\n",
        "    if bi % 10 == 0 and bi!=0:\n",
        "      temp = f'Batch index = {bi}\\tLoss = {running_loss/10}'\n",
        "      loss_list.append(running_loss/10)\n",
        "      running_loss = 0.0\n",
        "  return loss_list\n"
      ],
      "metadata": {
        "id": "1MVYT3gt57Ei"
      },
      "execution_count": null,
      "outputs": []
    },
    {
      "cell_type": "markdown",
      "source": [
        "#Evaluation Function\n",
        "This function defines the evaluation loop over the entire validation set.\n",
        "It also computes accuracy of the trained model, which is used to select the \n",
        "best model."
      ],
      "metadata": {
        "id": "4DgPa9125I-J"
      }
    },
    {
      "cell_type": "code",
      "source": [
        "def eval_loop_function(data_loader, model, device):\n",
        "  \"\"\"\n",
        "  This function defines the evaluation loop over the entire validation set.\n",
        "  It also computes accuracy of the trained model, which is used to select the \n",
        "  best model.\n",
        "  \"\"\"\n",
        "\n",
        "  model.eval()\n",
        "\n",
        "  corrects = 0\n",
        "  total = 0\n",
        "  for bi, d in enumerate(data_loader):\n",
        "    ids = d[\"ids\"]\n",
        "    mask = d[\"mask\"]\n",
        "    token_type_ids = d[\"token_type_ids\"]\n",
        "    targets = d[\"targets\"]\n",
        "\n",
        "    ids = ids.to(device, dtype=torch.long)\n",
        "    mask = mask.to(device, dtype=torch.long)\n",
        "    token_type_ids = token_type_ids.to(device, dtype=torch.long)\n",
        "    targets = targets.to(device, dtype=torch.long)\n",
        "\n",
        "    outputs = model(ids=ids, mask=mask, token_type_ids=token_type_ids)\n",
        "\n",
        "    _, predicted = torch.max(outputs, 1)\n",
        "    total = total + targets.size(0)\n",
        "    corrects = corrects + (predicted==targets).sum().item()\n",
        "\n",
        "    #print(f\"bi: {bi}\\tPredicted: {predicted}\\tTargets: {targets}\")\n",
        "\n",
        "  accuracy = corrects / total * 100\n",
        "  return accuracy"
      ],
      "metadata": {
        "id": "_G7psDS957Ei"
      },
      "execution_count": null,
      "outputs": []
    },
    {
      "cell_type": "markdown",
      "source": [
        "#Training the model"
      ],
      "metadata": {
        "id": "YbjOCwGT5fr4"
      }
    },
    {
      "cell_type": "code",
      "source": [
        "def run(df_train,df_valid):\n",
        "  \"\"\"\n",
        "  This function defines hyperparameters, model and optimizer, loads required\n",
        "  datasets and initiate the training and validation procedures.\n",
        "  \"\"\"\n",
        "  epoch_loss_list=[]\n",
        "  epoch_accuracy=[]\n",
        "  final_model=None\n",
        "\n",
        "  TRAIN_MAX_LEN = 140\n",
        "  VALID_MAX_LEN = 140\n",
        "  TRAIN_BATCH_SIZE = 16\n",
        "  VALID_BATCH_SIZE = 16\n",
        "  EPOCHS = 5\n",
        "  BERT_MODEL = 'bert-base-uncased'\n",
        "  LEARNING_RATE = 3e-5\n",
        "\n",
        "  tokenizer = transformers.BertTokenizer.from_pretrained(BERT_MODEL)\n",
        "\n",
        "  train_dataset = util_tokenizer(\n",
        "      text = df_train['review'].values,\n",
        "      targets = df_train['sentiment'].values,\n",
        "      tokenizer = tokenizer,\n",
        "      max_len = TRAIN_MAX_LEN\n",
        "  )\n",
        "\n",
        "\n",
        "  class_counts = []\n",
        "  for i in range(2):\n",
        "    class_counts.append(df_train[df_train['sentiment']==i].shape[0])\n",
        "  \n",
        "  \n",
        "  num_samples = sum(class_counts)\n",
        "  labels = df_train['sentiment'].values\n",
        "  class_counts=list(class_counts)\n",
        "  class_weights = []\n",
        "\n",
        "  for i in range(2):\n",
        "\n",
        "    if class_counts[i] != 0:\n",
        "      class_weights.append(num_samples/class_counts[i])\n",
        "    else:\n",
        "      class_weights.append(0)\n",
        "\n",
        "  weights = [class_weights[labels[i]] for i in range(int(num_samples))]\n",
        "  sampler = torch.utils.data.sampler.WeightedRandomSampler(torch.DoubleTensor(weights), int(num_samples))\n",
        "\n",
        "\n",
        "  train_data_loader = torch.utils.data.DataLoader(\n",
        "      train_dataset,\n",
        "      batch_size = TRAIN_BATCH_SIZE,\n",
        "      shuffle = False,\n",
        "      sampler = sampler\n",
        "  )\n",
        "\n",
        "  valid_dataset = util_tokenizer(\n",
        "      text = df_valid['review'].values,\n",
        "      targets = df_valid['sentiment'].values,\n",
        "      tokenizer = tokenizer,\n",
        "      max_len = VALID_MAX_LEN\n",
        "  )\n",
        "\n",
        "  valid_data_loader = torch.utils.data.DataLoader(\n",
        "      valid_dataset,\n",
        "      batch_size = VALID_BATCH_SIZE,\n",
        "      shuffle = False\n",
        "  )\n",
        "\n",
        "  model = SentimentClassifier(BERT_MODEL)\n",
        "  model = model.to(device)\n",
        "\n",
        "  num_train_steps = int(len(train_dataset) / TRAIN_BATCH_SIZE * EPOCHS)\n",
        "  optimizer = AdamW(model.parameters(), lr=LEARNING_RATE)\n",
        "\n",
        "  scheduler = lr_scheduler.StepLR(\n",
        "      optimizer,\n",
        "      step_size = 1,\n",
        "      gamma = 0.8\n",
        "  )\n",
        "  max_accuracy=-999\n",
        "\n",
        "  for epoch in range(EPOCHS):\n",
        "        print(\"Epoch : \",epoch,sep=\" \")\n",
        "        \n",
        "        loss_list= train_loop_function(data_loader=train_data_loader, model=model, optimizer=optimizer, device=device)\n",
        "      \n",
        "        accuracy = eval_loop_function(data_loader=valid_data_loader, model=model, device=device)\n",
        "        epoch_loss_list.append(loss_list)\n",
        "        epoch_accuracy.append(accuracy)\n",
        "        #accuracy_aspect_wise.append(accuracy)\n",
        "        if accuracy>max_accuracy :\n",
        "                max_accuracy=accuracy\n",
        "                final_model = model\n",
        "                model_name = '/content/drive/MyDrive/DLOPS_project'+ '/'+ str(epoch) + '.bin'\n",
        "                #epoch , accuracy in that epoch, loss batch wise \n",
        "                #accuracy_dict[aspect]= [epoch,accuracy,loss_list]\n",
        "\n",
        "        print(f\"\\nEpoch = {epoch}\\tAccuracy Score = {accuracy}\")\n",
        "        print(f\"Learning Rate = {scheduler.get_lr()[0]}\\n\")\n",
        "        print(\"loss_list \",loss_list,sep= \" \")\n",
        "\n",
        "        scheduler.step()\n",
        "\n",
        "  torch.save(final_model.state_dict(),model_name)     \n",
        "  return epoch_loss_list,epoch_accuracy\n"
      ],
      "metadata": {
        "id": "x7yHoAFJ57Ej"
      },
      "execution_count": null,
      "outputs": []
    },
    {
      "cell_type": "code",
      "source": [
        "if __name__ == \"__main__\":\n",
        "  epoch_loss_list,epoch_accuracy = run(df_train,df_valid)"
      ],
      "metadata": {
        "colab": {
          "base_uri": "https://localhost:8080/"
        },
        "outputId": "90fff356-3ae0-41c8-b251-08abc4ef8cd6",
        "id": "8tnlFbEa3gBk"
      },
      "execution_count": null,
      "outputs": [
        {
          "output_type": "stream",
          "name": "stdout",
          "text": [
            "Epoch :  0\n",
            "Train Loop\n",
            "Iteration 0 Loss 1.0711952447891235\n",
            "Iteration 100 Loss 0.4316503405570984\n",
            "Iteration 200 Loss 0.26546552777290344\n",
            "Iteration 300 Loss 0.22568006813526154\n",
            "Iteration 400 Loss 0.12127146124839783\n",
            "Iteration 500 Loss 0.38499605655670166\n",
            "Iteration 600 Loss 0.2438974678516388\n",
            "Iteration 700 Loss 0.3392295837402344\n",
            "Iteration 800 Loss 0.44453632831573486\n",
            "Iteration 900 Loss 0.6335721015930176\n",
            "Iteration 1000 Loss 0.4639115631580353\n",
            "Iteration 1100 Loss 0.26569733023643494\n",
            "Iteration 1200 Loss 0.25288426876068115\n",
            "Iteration 1300 Loss 0.12764817476272583\n",
            "Iteration 1400 Loss 0.3234763741493225\n",
            "Iteration 1500 Loss 0.35244235396385193\n",
            "Iteration 1600 Loss 0.2062813639640808\n",
            "Iteration 1700 Loss 0.18029427528381348\n",
            "Iteration 1800 Loss 0.22197669744491577\n",
            "\n",
            "Epoch = 0\tAccuracy Score = 88.47\n",
            "Learning Rate = 3e-05\n",
            "\n",
            "loss_list  [0.9767411470413208, 0.7653391242027283, 0.743639075756073, 0.7123958528041839, 0.6443391561508178, 0.5642549753189087, 0.3898644521832466, 0.41001539677381516, 0.41975760608911517, 0.32211055159568786, 0.3426187664270401, 0.4125638216733932, 0.3561225190758705, 0.39335491210222245, 0.3244102120399475, 0.3283058494329453, 0.4017381951212883, 0.35844912976026533, 0.332601098716259, 0.32942242473363875, 0.4042396187782288, 0.3631469182670116, 0.3583490699529648, 0.28642401844263077, 0.2623704820871353, 0.28345210254192355, 0.4707620605826378, 0.365095229446888, 0.3382487930357456, 0.33672402799129486, 0.2816333591938019, 0.2892885558307171, 0.3415087729692459, 0.3726701319217682, 0.33427727073431013, 0.3042860135436058, 0.26940587908029556, 0.3810739263892174, 0.2802108511328697, 0.30742203295230863, 0.30504862517118453, 0.30250738225877283, 0.3548796087503433, 0.3958543390035629, 0.3393747016787529, 0.30264461860060693, 0.20890641808509827, 0.242512147128582, 0.31421291902661325, 0.2603985361754894, 0.324960945546627, 0.207986930757761, 0.2841197054833174, 0.2583551533520222, 0.27721886783838273, 0.2480097770690918, 0.35128810070455074, 0.28963714092969894, 0.28593289032578467, 0.2702177006751299, 0.3425013706088066, 0.30684210658073424, 0.25213164240121844, 0.27562390491366384, 0.2544014912098646, 0.2833260789513588, 0.303573751449585, 0.26798765659332274, 0.17497403621673585, 0.3030027338303626, 0.24175652116537094, 0.3199386179447174, 0.3082639366388321, 0.26266985312104224, 0.20096095204353331, 0.2742362253367901, 0.1600255573168397, 0.3175851911306381, 0.23943101279437543, 0.21443621888756753, 0.3278088167309761, 0.34775562435388563, 0.20453450754284858, 0.23373497053980827, 0.28387969322502615, 0.2463430441915989, 0.21237121447920798, 0.3338742025196552, 0.2677302986383438, 0.2404661186039448, 0.30655461028218267, 0.22013551816344262, 0.27532562240958214, 0.24060831889510154, 0.2394416742026806, 0.2539994940161705, 0.2634256064891815, 0.2312508888542652, 0.23571408689022064, 0.26266081929206847, 0.35013626217842103, 0.31228591352701185, 0.20822650454938413, 0.18628984615206717, 0.26206560954451563, 0.27992490455508234, 0.28603352457284925, 0.295204658806324, 0.225092513859272, 0.22451725006103515, 0.28011095970869065, 0.2204118087887764, 0.21957099214196205, 0.24019134268164635, 0.2007587380707264, 0.2552637368440628, 0.2905057996511459, 0.1873101443052292, 0.3455051317811012, 0.29363169968128205, 0.24662268608808519, 0.27384198233485224, 0.18493417128920556, 0.21524277571588754, 0.19705786220729352, 0.2978394582867622, 0.17896997705101966, 0.2729428671300411, 0.1994499646127224, 0.22521160468459128, 0.25217778235673904, 0.2132646769285202, 0.22276385203003884, 0.22325552441179752, 0.16202969886362553, 0.26085891127586364, 0.17687899451702832, 0.2473523274064064, 0.20476189032196998, 0.21365225240588187, 0.24840572234243155, 0.19349701330065727, 0.2559411503374577, 0.2991805039346218, 0.26507181003689767, 0.15670111030340195, 0.15070978160947562, 0.20163436979055405, 0.24725773967802525, 0.2801283597946167, 0.2323703095316887, 0.2475916936993599, 0.28621530532836914, 0.2624227896332741, 0.3073883607983589, 0.24700175151228904, 0.22064572498202323, 0.29099262580275537, 0.17101843617856502, 0.2719491545110941, 0.2510338440537453, 0.22485074549913406, 0.19043042585253717, 0.1640867803245783, 0.20160742457956077, 0.150624942407012, 0.25769641771912577, 0.26987121179699897, 0.12053566500544548, 0.22913857251405717, 0.1837312325835228, 0.24034389927983285, 0.22356590256094933, 0.19515905678272247, 0.10270112808793783, 0.22323860339820384, 0.1563263863325119, 0.21075020022690297, 0.23182210475206375, 0.158794055134058, 0.21014680191874505, 0.18203543350100518, 0.18800890147686006, 0.1374545207247138, 0.2877123003825545, 0.20227185934782027, 0.1515484981238842]\n",
            "Epoch :  1\n",
            "Train Loop\n"
          ]
        },
        {
          "output_type": "stream",
          "name": "stderr",
          "text": [
            "/usr/local/lib/python3.7/dist-packages/torch/optim/lr_scheduler.py:372: UserWarning: To get the last learning rate computed by the scheduler, please use `get_last_lr()`.\n",
            "  \"please use `get_last_lr()`.\", UserWarning)\n"
          ]
        },
        {
          "output_type": "stream",
          "name": "stdout",
          "text": [
            "Iteration 0 Loss 0.3225958049297333\n",
            "Iteration 100 Loss 0.3749157190322876\n",
            "Iteration 200 Loss 0.12199568003416061\n",
            "Iteration 300 Loss 0.04196774587035179\n",
            "Iteration 400 Loss 0.03675088658928871\n",
            "Iteration 500 Loss 0.3476121127605438\n",
            "Iteration 600 Loss 0.31324392557144165\n",
            "Iteration 700 Loss 0.49062299728393555\n",
            "Iteration 800 Loss 0.05823909863829613\n",
            "Iteration 900 Loss 0.36205556988716125\n",
            "Iteration 1000 Loss 0.17896635830402374\n",
            "Iteration 1100 Loss 0.3743111193180084\n",
            "Iteration 1200 Loss 0.08851179480552673\n",
            "Iteration 1300 Loss 0.20544175803661346\n",
            "Iteration 1400 Loss 0.325318843126297\n",
            "Iteration 1500 Loss 0.07994962483644485\n",
            "Iteration 1600 Loss 0.08884931355714798\n",
            "Iteration 1700 Loss 0.4851783514022827\n",
            "Iteration 1800 Loss 0.13645219802856445\n",
            "\n",
            "Epoch = 1\tAccuracy Score = 88.91\n",
            "Learning Rate = 1.9200000000000003e-05\n",
            "\n",
            "loss_list  [0.2243881668895483, 0.14863150790333748, 0.1239036813378334, 0.23277650251984597, 0.14887059964239596, 0.18678105846047402, 0.11946671828627586, 0.17593336142599583, 0.23963235057890414, 0.2563443586230278, 0.16299257874488832, 0.18958363644778728, 0.15025170668959617, 0.20438678115606307, 0.11368346400558949, 0.19695610706694425, 0.22438199631869793, 0.19192304238677024, 0.20510514341294767, 0.18295856546610595, 0.13184045776724815, 0.24984514452517032, 0.19621572345495225, 0.14708507359027861, 0.18510935083031654, 0.17846129834651947, 0.13900015205144883, 0.15912571744993328, 0.1570020031183958, 0.17238333206623793, 0.18766325376927853, 0.14294039495289326, 0.14702969305217267, 0.14672598391771316, 0.20144205559045075, 0.1560348603874445, 0.1244516421109438, 0.19853229951113463, 0.11080566318705679, 0.18387964963912964, 0.13615141911432146, 0.17723952773958446, 0.23233308345079423, 0.15474113672971726, 0.156356842815876, 0.1406217936426401, 0.1443658396601677, 0.14311358910053967, 0.16959177292883396, 0.1478248655796051, 0.1830429330468178, 0.1691227424889803, 0.1567260693758726, 0.16161780133843423, 0.14924344643950463, 0.1398695858195424, 0.13156126141548158, 0.25199964828789234, 0.1323926866054535, 0.16457107104361057, 0.19027310758829116, 0.23974604569375516, 0.2421118475496769, 0.21289009973406792, 0.1986202046275139, 0.15633246153593064, 0.21733702570199967, 0.17357367947697638, 0.12047909684479237, 0.14284637868404387, 0.20508543103933335, 0.19505371823906897, 0.14332322664558889, 0.1457148902118206, 0.21107231564819812, 0.14758947789669036, 0.17068338096141816, 0.18107183389365672, 0.17087882049381733, 0.15715981032699347, 0.13032361418008803, 0.30519919414073227, 0.1930063422769308, 0.20184205360710622, 0.12681988328695298, 0.19205065332353116, 0.19169796034693717, 0.11525244060903787, 0.15339250359684228, 0.11154810134321451, 0.10769523307681084, 0.1118758574128151, 0.14823516607284545, 0.14648556103929877, 0.1684333799406886, 0.14109208583831787, 0.0907175094820559, 0.12731809820979834, 0.1909662125632167, 0.20175153594464063, 0.10833621323108673, 0.14957355950027704, 0.17658772505819798, 0.09285105131566525, 0.11692121997475624, 0.12352651171386242, 0.14213017895817756, 0.16811379808932542, 0.08936842111870646, 0.1351737530902028, 0.17393535654991865, 0.16953258346766234, 0.12134304773062468, 0.1282992860302329, 0.12672287859022618, 0.14654945433139802, 0.15949101466685534, 0.10999720394611359, 0.15126660466194153, 0.10898608276620507, 0.10258698854595423, 0.11379169523715973, 0.09983583823777735, 0.1250238343141973, 0.1591806050390005, 0.20152972117066384, 0.13149262852966787, 0.13048400301486254, 0.13675188980996608, 0.11842265306040645, 0.16609924361109735, 0.16929918117821216, 0.13827898064628244, 0.06895584128797054, 0.1383568862453103, 0.1384190778248012, 0.23737692087888718, 0.1314610756933689, 0.1465074423700571, 0.21667974051088096, 0.1445462368428707, 0.11897097900509834, 0.1234045165590942, 0.1073052143678069, 0.1687954755499959, 0.10828722976148128, 0.0660029306076467, 0.17507101129740477, 0.07497849632054568, 0.0659384498372674, 0.1256934406235814, 0.21947119999676942, 0.08084682552143932, 0.1416714807972312, 0.1183786790817976, 0.13100999854505063, 0.13939605038613082, 0.13062864020466805, 0.06962358332239091, 0.0851006805896759, 0.07085452671162784, 0.10798247912898659, 0.10305870957672596, 0.09655462102964521, 0.08355788746848702, 0.1425254324451089, 0.11268479637801647, 0.14715473148971797, 0.12513611046597362, 0.21106699043884875, 0.1297547402791679, 0.17282891795039176, 0.11531302556395531, 0.1670809743925929, 0.06804989520460367, 0.094184136018157, 0.14338398398831487, 0.14072312954813243, 0.09434777107089758, 0.14814904183149338, 0.10366654274985194, 0.12911632508039475, 0.1586543177254498, 0.19176916163414717, 0.17882800847291946, 0.07958910316228866, 0.17251201570034028]\n",
            "Epoch :  2\n",
            "Train Loop\n",
            "Iteration 0 Loss 0.018333006650209427\n",
            "Iteration 100 Loss 0.01144055649638176\n",
            "Iteration 200 Loss 0.02664347179234028\n",
            "Iteration 300 Loss 0.037629686295986176\n",
            "Iteration 400 Loss 0.04006859287619591\n",
            "Iteration 500 Loss 0.06598690897226334\n",
            "Iteration 600 Loss 0.023520834743976593\n",
            "Iteration 700 Loss 0.10865236073732376\n",
            "Iteration 800 Loss 0.04711872339248657\n",
            "Iteration 900 Loss 0.07640951871871948\n",
            "Iteration 1000 Loss 0.16991126537322998\n",
            "Iteration 1100 Loss 0.049881938844919205\n",
            "Iteration 1200 Loss 0.022899281233549118\n",
            "Iteration 1300 Loss 0.015941642224788666\n",
            "Iteration 1400 Loss 0.012402651831507683\n",
            "Iteration 1500 Loss 0.017407359555363655\n",
            "Iteration 1600 Loss 0.07275030016899109\n",
            "Iteration 1700 Loss 0.07808276265859604\n",
            "Iteration 1800 Loss 0.018288929015398026\n",
            "\n",
            "Epoch = 2\tAccuracy Score = 89.005\n",
            "Learning Rate = 1.5360000000000002e-05\n",
            "\n",
            "loss_list  [0.13667401485145092, 0.07315628351643681, 0.11962335808202625, 0.06706183981150389, 0.0988239323720336, 0.09107811544090509, 0.14862901903688908, 0.05399920754134655, 0.09794425908476115, 0.060391845740377904, 0.05534219034016132, 0.041347360238432884, 0.13154717860743403, 0.051941957185044886, 0.1286230143159628, 0.06627020337618887, 0.1310262165032327, 0.1767780869267881, 0.08711611852049828, 0.08678585328161717, 0.09450645614415407, 0.16004690006375313, 0.07725933119654656, 0.07272423850372434, 0.10527133187279106, 0.03586902217939496, 0.1693711676634848, 0.13382713738828897, 0.15354029154404997, 0.1362582802772522, 0.14358805287629367, 0.13990431781858206, 0.09268605699762703, 0.1011836564168334, 0.11914072763174773, 0.0867325633764267, 0.11233075899071991, 0.10762682743370533, 0.09648916036821902, 0.11109241051599383, 0.07214593952521682, 0.15768937766551971, 0.12718617990612985, 0.1316794464364648, 0.11549127334728837, 0.05884307292290032, 0.12868326203897595, 0.035987552162259816, 0.07433812413364649, 0.07986122108995915, 0.11384147731587291, 0.10491358758881689, 0.09156850259751081, 0.07332239151000977, 0.11700067706406117, 0.08882897384464741, 0.05126061816699803, 0.056859772698953745, 0.11595317372120917, 0.11127713173627854, 0.23691636407747865, 0.1288677791133523, 0.09852222353219986, 0.12279786914587021, 0.13215534202754498, 0.05050124926492572, 0.07685715360566973, 0.11388907991349698, 0.08992970138788223, 0.06891708788461984, 0.08258374175056815, 0.17683612778782845, 0.15630705785006285, 0.06909655928611755, 0.08659637123346328, 0.10101662846282125, 0.09178951680660248, 0.07108127782121301, 0.1481540583074093, 0.08921575071290136, 0.08287273980677128, 0.19053836343809963, 0.12705368017777802, 0.08012934662401676, 0.10253099529072643, 0.051809059269726274, 0.17259732158854604, 0.13019915246404706, 0.06591826872900128, 0.09627481177449226, 0.0850235117599368, 0.06962350970134139, 0.08276569019071758, 0.09205930870957672, 0.07053492860868574, 0.12899637296795846, 0.10253728879615664, 0.0922214281745255, 0.1245355828665197, 0.05708902506157756, 0.11123108854517341, 0.14989625848829746, 0.06963005531579256, 0.05707451328635216, 0.0797442713752389, 0.14840499870479107, 0.08922880608588457, 0.04826694810763001, 0.12309528193436563, 0.0660651432350278, 0.034911421686410905, 0.03769342098385096, 0.09698198991827667, 0.048387646302580835, 0.07444149716757238, 0.0675011801533401, 0.08141296249814331, 0.11211879039183259, 0.061333527276292446, 0.07452426925301552, 0.11745088277384638, 0.08150825859047472, 0.07539910371415318, 0.12317119562067091, 0.09168401295319199, 0.09082097448408603, 0.04248497886583209, 0.11162070985883474, 0.10660856943577528, 0.10128274857997895, 0.048697295133024454, 0.04509534728713334, 0.11061619231477379, 0.07934083719737828, 0.0765639512334019, 0.049230623152107, 0.026319645717740058, 0.0986784623004496, 0.10012929392978549, 0.034448304958641526, 0.06251200311817229, 0.11970673953182995, 0.07616079282015562, 0.10126389563083649, 0.07278486285358668, 0.024308565305545926, 0.09956290852278471, 0.11885477756150067, 0.09297201959416271, 0.02423171140253544, 0.0726643867790699, 0.10146276690065861, 0.10077172331511974, 0.06590850781649352, 0.030117531213909386, 0.09245414333418012, 0.06732781529426575, 0.08878359133377671, 0.06976343533024192, 0.06012550806626678, 0.09234343222342431, 0.09225918841548264, 0.07280926215462387, 0.05111840986646712, 0.03387492937035859, 0.062071489682421085, 0.10941696576774121, 0.10713956207036972, 0.04806113042868674, 0.04893644959665835, 0.05308111924678087, 0.04842864747624844, 0.07904553040862083, 0.08365000614430755, 0.036432331521064044, 0.06646984396502376, 0.09234667778946459, 0.0846059232018888, 0.05652975169941783, 0.05962883555330336, 0.09619338288903237, 0.04798764022998512, 0.01769788363017142, 0.05378089570440352, 0.031072279927320777, 0.06160828857682645, 0.1066433229483664]\n",
            "Epoch :  3\n",
            "Train Loop\n",
            "Iteration 0 Loss 0.14267219603061676\n",
            "Iteration 100 Loss 0.05433148145675659\n",
            "Iteration 200 Loss 0.09276708215475082\n",
            "Iteration 300 Loss 0.020482178777456284\n",
            "Iteration 400 Loss 0.0370650589466095\n",
            "Iteration 500 Loss 0.0060576824471354485\n",
            "Iteration 600 Loss 0.002686461666598916\n",
            "Iteration 700 Loss 0.011727333068847656\n",
            "Iteration 800 Loss 0.007290482986718416\n",
            "Iteration 900 Loss 0.03327232226729393\n",
            "Iteration 1000 Loss 0.00448885140940547\n",
            "Iteration 1100 Loss 0.12617607414722443\n",
            "Iteration 1200 Loss 0.030412986874580383\n",
            "Iteration 1300 Loss 0.0017691832035779953\n",
            "Iteration 1400 Loss 0.0023751924745738506\n",
            "Iteration 1500 Loss 0.014145719818770885\n",
            "Iteration 1600 Loss 0.004117513075470924\n",
            "Iteration 1700 Loss 0.017388351261615753\n",
            "Iteration 1800 Loss 0.19867315888404846\n",
            "\n",
            "Epoch = 3\tAccuracy Score = 89.18\n",
            "Learning Rate = 1.2288000000000002e-05\n",
            "\n",
            "loss_list  [0.03426342597231269, 0.05922738583758473, 0.08239745763130486, 0.047331956890411676, 0.038173336628824474, 0.029757812758907674, 0.1292049114126712, 0.09709350308403372, 0.11603939016349614, 0.07713347496464848, 0.04759580185636878, 0.11836193334311247, 0.03932462045922876, 0.02556286402978003, 0.026635365141555668, 0.12244686326012015, 0.037961516552604734, 0.029545437591150404, 0.0929104059934616, 0.0375389099586755, 0.052551907813176514, 0.0646487485151738, 0.09477580143138767, 0.06578896418213845, 0.012239902466535568, 0.019695288850925863, 0.06405226836213843, 0.08277204218320548, 0.025429928116500376, 0.08911270112730563, 0.009300347045063972, 0.07563064377754927, 0.01726080656517297, 0.059835147997364405, 0.05170644661411643, 0.0799369091168046, 0.07703826208598911, 0.06335630100220442, 0.12483645714819432, 0.050561585230752826, 0.031548502994701265, 0.04136199620552361, 0.054054760839790106, 0.16615821570158004, 0.06128006167709828, 0.06256809737533331, 0.021013524872250854, 0.02662266620900482, 0.07090711663477123, 0.08914035460911691, 0.09557488490827382, 0.07664113957434893, 0.0438974394928664, 0.05331960269249976, 0.09040852105244994, 0.09686877969652415, 0.06554649639874696, 0.06892136200331152, 0.04784139483235776, 0.05450218457262963, 0.057163166953250764, 0.06403466807678342, 0.06792030218057335, 0.0500207494944334, 0.07873200769536197, 0.03249364388175309, 0.020206561754457654, 0.044832980772480366, 0.05255054535809904, 0.07302699689753353, 0.0327955637825653, 0.056044694408774375, 0.12160905739292502, 0.04932153057307005, 0.13128010607324542, 0.018356161890551448, 0.03782897861674428, 0.04368939544074237, 0.034916697349399325, 0.025035712448880077, 0.05917221675626934, 0.04685377352871001, 0.006914745876565575, 0.042576817993540315, 0.02939691359642893, 0.0850190192926675, 0.04121153076412156, 0.12449214281514287, 0.10038490500301123, 0.06198768212925643, 0.033076709043234585, 0.042818618821911514, 0.047900620684959, 0.0185401544906199, 0.11996014053001999, 0.04778213519603014, 0.02741775372996926, 0.035799092170782386, 0.07173270324710757, 0.04676136435009539, 0.03768301538657397, 0.017498760088346898, 0.06762578941415995, 0.05914807806257159, 0.033248086925596, 0.0474555617198348, 0.02573472971562296, 0.07048729669768364, 0.017588218627497553, 0.033567663631401956, 0.040597448404878375, 0.09374405932612717, 0.11705293788108975, 0.04043111971113831, 0.021365132136270403, 0.018121799058280885, 0.06228939110878855, 0.11792604583315551, 0.06598966382443905, 0.019844052381813526, 0.02749945903196931, 0.026707960315980016, 0.03815857345471159, 0.03503452586010099, 0.0088952622609213, 0.028160603647120298, 0.04216086238157004, 0.04099035437684506, 0.09127842148300261, 0.01706020231358707, 0.06885610963217914, 0.04880019926931709, 0.0638194139348343, 0.05598123245872557, 0.02107063326984644, 0.019284220063127577, 0.07343325456604362, 0.03544117044657469, 0.02387900445610285, 0.01612032300326973, 0.00701826912118122, 0.11532384671736509, 0.11686578409280628, 0.07950984919443727, 0.011018149880692362, 0.016156725119799376, 0.02689892305061221, 0.10587366942781955, 0.008414266700856387, 0.09705785582773388, 0.04414541721343994, 0.028401110041886567, 0.07965257279574871, 0.0380387393059209, 0.02061320496723056, 0.016983366082422437, 0.0373244610382244, 0.08147824089974165, 0.10336708084214478, 0.06735225224401802, 0.09268843471072614, 0.0400651590898633, 0.04462282317690551, 0.07557287171948701, 0.09627689307089896, 0.05608124705031514, 0.03475570739246905, 0.01105232648551464, 0.06051865397021174, 0.013464387552812696, 0.05162148734088987, 0.0380868881708011, 0.04293252432253212, 0.026007023197598754, 0.06105194627307355, 0.06952234390191733, 0.04523604356218129, 0.01568497489206493, 0.05185968745499849, 0.05414130024146289, 0.047362126235384494, 0.0328520268201828, 0.04704737197607756, 0.02510202433913946, 0.051768144487869, 0.03213598495349288, 0.055757924914360046]\n",
            "Epoch :  4\n",
            "Train Loop\n",
            "Iteration 0 Loss 0.0028131138533353806\n",
            "Iteration 100 Loss 0.05744273215532303\n",
            "Iteration 200 Loss 0.002722539007663727\n",
            "Iteration 300 Loss 0.004660445731133223\n",
            "Iteration 400 Loss 0.005126654170453548\n",
            "Iteration 500 Loss 0.06369232386350632\n",
            "Iteration 600 Loss 0.007086107041686773\n",
            "Iteration 700 Loss 0.005118715111166239\n",
            "Iteration 800 Loss 0.0064566051587462425\n",
            "Iteration 900 Loss 0.0035394455771893263\n",
            "Iteration 1000 Loss 0.0026804725639522076\n",
            "Iteration 1100 Loss 0.016687138006091118\n",
            "Iteration 1200 Loss 0.0015297802165150642\n",
            "Iteration 1300 Loss 0.003721591318026185\n",
            "Iteration 1400 Loss 0.0035276319831609726\n",
            "Iteration 1500 Loss 0.0033636419102549553\n",
            "Iteration 1600 Loss 0.0031437978614121675\n",
            "Iteration 1700 Loss 0.0019182611722499132\n",
            "Iteration 1800 Loss 0.0009670243598520756\n",
            "\n",
            "Epoch = 4\tAccuracy Score = 89.725\n",
            "Learning Rate = 9.830400000000002e-06\n",
            "\n",
            "loss_list  [0.048005972616374494, 0.03608057298697531, 0.043216132011730225, 0.02963582754600793, 0.0441365948645398, 0.05017696460708976, 0.014104907435830682, 0.02670637210831046, 0.017465851770248265, 0.07037493530660868, 0.05554037659894675, 0.010218284145230428, 0.03445621378486976, 0.013326736190356315, 0.09549781698151491, 0.03521752624073997, 0.07058210484683514, 0.01837701767217368, 0.05127649237401784, 0.008902341802604496, 0.019134516594931483, 0.06650051712058484, 0.0071211867732927205, 0.0423984719091095, 0.010954732750542462, 0.05232261478086002, 0.016971333511173727, 0.005968503095209599, 0.008591727341990919, 0.018804187700152398, 0.06704073359724134, 0.014556175726465882, 0.07441781773231923, 0.04974874519975856, 0.102617724891752, 0.03208945160731673, 0.009341080952435733, 0.09420015616342425, 0.05510792848654091, 0.02924133900087327, 0.050789076113142075, 0.03376273897010833, 0.03192842621356249, 0.02599776324350387, 0.029865644150413574, 0.005974527192302048, 0.06725003242027014, 0.031227277463767678, 0.05233361561549828, 0.07675335458479822, 0.023611556959804148, 0.0483535551931709, 0.040769639797508715, 0.007409090851433575, 0.014580508135259152, 0.0395334857632406, 0.012826091086026281, 0.04683044051053002, 0.04879411373985931, 0.020068863604683428, 0.0048375798156484965, 0.01751454846234992, 0.023577814921736717, 0.010310564935207368, 0.04631603680318221, 0.05327124317409471, 0.021141432924196124, 0.049735317419981585, 0.03244274760363623, 0.00491273554507643, 0.0518675412517041, 0.040191234124358745, 0.03965258938260376, 0.023958539543673395, 0.05447586472146213, 0.01011634764727205, 0.014124443987384439, 0.003403053153306246, 0.05321860054973513, 0.06374394182348624, 0.031213830644264817, 0.025588533864356576, 0.047806750307790934, 0.04236918803071603, 0.019843560410663486, 0.014025405771099031, 0.04449253452476114, 0.012296961969695985, 0.017547853023279457, 0.035385017679072914, 0.02116874686907977, 0.05933555131778121, 0.06084931998047978, 0.02162023102864623, 0.012674835231155156, 0.07810971565777436, 0.009934984636493028, 0.06337615095544606, 0.06015712118241936, 0.044520139950327574, 0.008577349444385618, 0.016874228417873383, 0.022424238780513406, 0.024115297594107687, 0.03197326426161453, 0.04435393675230444, 0.015407147945370524, 0.03823905816534534, 0.014709774893708527, 0.0075677602086216215, 0.0059837541077286, 0.08085690446314402, 0.06303584065753967, 0.014268396026454865, 0.04302694511134177, 0.014062109543010593, 0.005784005182795227, 0.007347793900407851, 0.0024785700952634215, 0.04494890988571569, 0.039882282761391254, 0.008325784583576024, 0.052657213411293924, 0.009489716950338335, 0.04654650640441105, 0.015988173824734987, 0.04109428016236052, 0.017051530978642405, 0.052461130486335605, 0.025220788666047156, 0.022627008496783674, 0.021855308057274668, 0.03200012652669102, 0.042795576225034895, 0.05700831963913515, 0.060837369551882146, 0.0528026997577399, 0.04521806391421705, 0.008723922236822546, 0.06305350845213979, 0.0340101869776845, 0.00859657812397927, 0.04803983378224075, 0.012716066022403539, 0.0033860344672575595, 0.010013948730193078, 0.007640239223837853, 0.02634746063267812, 0.014625367743428796, 0.0180181595380418, 0.020050215208902954, 0.005802675377344713, 0.041278047300875184, 0.027037857827963307, 0.04143663965514861, 0.029417372803436592, 0.01476371284807101, 0.05820949579356238, 0.05269282746594399, 0.018796058534644545, 0.05074419947341084, 0.05199752850458026, 0.0059624791610985994, 0.011971664207521826, 0.009555815637577325, 0.00577226763125509, 0.08051961547462269, 0.042117531620897354, 0.01642088838852942, 0.053933869657339525, 0.008119078539311885, 0.01927459645085037, 0.003334809758234769, 0.005287805089028552, 0.026003560185199604, 0.037542964093154295, 0.01167690366273746, 0.011457769060507416, 0.009876634902320802, 0.03126208359608427, 0.005165552214020863, 0.024391192465554924, 0.0197308779519517, 0.022965202346676962, 0.03586444372776896, 0.060930027364520356, 0.05257324537960813]\n"
          ]
        }
      ]
    },
    {
      "cell_type": "code",
      "source": [
        ""
      ],
      "metadata": {
        "id": "bD2K7J0c3__r"
      },
      "execution_count": null,
      "outputs": []
    },
    {
      "cell_type": "markdown",
      "source": [
        "#Performance Ananlysis"
      ],
      "metadata": {
        "id": "A9inIAXJ5koZ"
      }
    },
    {
      "cell_type": "code",
      "source": [
        "len(epoch_loss_list)\n",
        "loss_epoch =[]\n",
        "for i in range(len(epoch_loss_list)):\n",
        "  loss_epoch.append(sum(epoch_loss_list[i])/len(epoch_loss_list[i]))\n",
        "\n",
        "loss_epoch"
      ],
      "metadata": {
        "id": "agnKkmWcpxpr",
        "colab": {
          "base_uri": "https://localhost:8080/"
        },
        "outputId": "5a1df463-ad57-4c41-ad95-2cb01ffd76c3"
      },
      "execution_count": null,
      "outputs": [
        {
          "output_type": "execute_result",
          "data": {
            "text/plain": [
              "[0.27982749256011563,\n",
              " 0.15223233753536397,\n",
              " 0.09003073877273968,\n",
              " 0.054190723233131594,\n",
              " 0.032241830911162395]"
            ]
          },
          "metadata": {},
          "execution_count": 57
        }
      ]
    },
    {
      "cell_type": "code",
      "source": [
        "num_epoch =[0,1,2,3,4]\n",
        "epoch_accuracy"
      ],
      "metadata": {
        "colab": {
          "base_uri": "https://localhost:8080/"
        },
        "id": "sZjFAW3dlfzc",
        "outputId": "a3572d10-cd12-4517-d7ed-0bd4204ffbce"
      },
      "execution_count": null,
      "outputs": [
        {
          "output_type": "execute_result",
          "data": {
            "text/plain": [
              "[88.47, 88.91, 89.005, 89.18, 89.725]"
            ]
          },
          "metadata": {},
          "execution_count": 58
        }
      ]
    },
    {
      "cell_type": "code",
      "source": [
        "import matplotlib.pyplot as plt\n",
        " \n",
        "def model_plot(x,y,title):\n",
        "\n",
        "  plt.plot(x, y)\n",
        "  plt.xlabel('epoch')\n",
        "  plt.ylabel('Accuracy')\n",
        "  plt.title(title)\n",
        "  plt.show()"
      ],
      "metadata": {
        "id": "d0kciGl3klWk"
      },
      "execution_count": null,
      "outputs": []
    },
    {
      "cell_type": "code",
      "source": [
        "model_plot(num_epoch,epoch_accuracy,\"Accuracy Plot\")"
      ],
      "metadata": {
        "colab": {
          "base_uri": "https://localhost:8080/",
          "height": 295
        },
        "id": "E9muDqchklaV",
        "outputId": "99877dce-0347-49ad-b77b-428cc112408f"
      },
      "execution_count": null,
      "outputs": [
        {
          "output_type": "display_data",
          "data": {
            "text/plain": [
              "<Figure size 432x288 with 1 Axes>"
            ],
            "image/png": "[encoded data removed]"
          },
          "metadata": {
            "needs_background": "light"
          }
        }
      ]
    },
    {
      "cell_type": "code",
      "source": [
        "model_plot(num_epoch,loss_epoch,\"Loss Plot\")"
      ],
      "metadata": {
        "colab": {
          "base_uri": "https://localhost:8080/",
          "height": 295
        },
        "id": "8tMSaXzUHuzS",
        "outputId": "87bd00d4-0ffe-4239-812a-d05b2c9f22ba"
      },
      "execution_count": null,
      "outputs": [
        {
          "output_type": "display_data",
          "data": {
            "text/plain": [
              "<Figure size 432x288 with 1 Axes>"
            ],
            "image/png": "[encoded data removed]"
          },
          "metadata": {
            "needs_background": "light"
          }
        }
      ]
    },
    {
      "cell_type": "code",
      "source": [
        "from tabulate import tabulate\n",
        " \n",
        "# assign data\n",
        "mydata =[]\n",
        "for i in range(len(epoch_accuracy)):\n",
        "  mydata.append([num_epoch[i],epoch_accuracy[i]])\n",
        "\n",
        "# create header\n",
        "head = [\"Epoch\", \"Accuracy\"]\n",
        " \n",
        "# display table\n",
        "print(tabulate(mydata, headers=head, tablefmt=\"grid\"))"
      ],
      "metadata": {
        "colab": {
          "base_uri": "https://localhost:8080/"
        },
        "id": "4CKc46vLHu2n",
        "outputId": "cf2f9e1d-906f-43d9-c688-e12e93245570"
      },
      "execution_count": null,
      "outputs": [
        {
          "output_type": "stream",
          "name": "stdout",
          "text": [
            "+---------+------------+\n",
            "|   Epoch |   Accuracy |\n",
            "+=========+============+\n",
            "|       0 |     88.47  |\n",
            "+---------+------------+\n",
            "|       1 |     88.91  |\n",
            "+---------+------------+\n",
            "|       2 |     89.005 |\n",
            "+---------+------------+\n",
            "|       3 |     89.18  |\n",
            "+---------+------------+\n",
            "|       4 |     89.725 |\n",
            "+---------+------------+\n"
          ]
        }
      ]
    },
    {
      "cell_type": "code",
      "source": [
        "mydata1 =[]\n",
        "for i in range(len(loss_epoch)):\n",
        "  mydata1.append([num_epoch[i],loss_epoch[i]])\n",
        "\n",
        "# create header\n",
        "head = [\"Epoch\", \"Loss\"]\n",
        " \n",
        "# display table\n",
        "print(tabulate(mydata1, headers=head, tablefmt=\"grid\"))"
      ],
      "metadata": {
        "colab": {
          "base_uri": "https://localhost:8080/"
        },
        "id": "8tIvdtvqHu7e",
        "outputId": "137793bd-c0d5-4a07-8f8e-f9b72d4ffc46"
      },
      "execution_count": null,
      "outputs": [
        {
          "output_type": "stream",
          "name": "stdout",
          "text": [
            "+---------+-----------+\n",
            "|   Epoch |      Loss |\n",
            "+=========+===========+\n",
            "|       0 | 0.279827  |\n",
            "+---------+-----------+\n",
            "|       1 | 0.152232  |\n",
            "+---------+-----------+\n",
            "|       2 | 0.0900307 |\n",
            "+---------+-----------+\n",
            "|       3 | 0.0541907 |\n",
            "+---------+-----------+\n",
            "|       4 | 0.0322418 |\n",
            "+---------+-----------+\n"
          ]
        }
      ]
    },
    {
      "cell_type": "markdown",
      "source": [
        "#ONNX model"
      ],
      "metadata": {
        "id": "OvxmRwcR_QLi"
      }
    },
    {
      "cell_type": "code",
      "source": [
        "pip install onnx"
      ],
      "metadata": {
        "colab": {
          "base_uri": "https://localhost:8080/"
        },
        "id": "VWWea1gdHs7k",
        "outputId": "9e207953-13e7-4f77-94cc-0ad50505ef1f"
      },
      "execution_count": null,
      "outputs": [
        {
          "output_type": "stream",
          "name": "stdout",
          "text": [
            "Requirement already satisfied: onnx in /usr/local/lib/python3.7/dist-packages (1.11.0)\n",
            "Requirement already satisfied: typing-extensions>=3.6.2.1 in /usr/local/lib/python3.7/dist-packages (from onnx) (4.2.0)\n",
            "Requirement already satisfied: protobuf>=3.12.2 in /usr/local/lib/python3.7/dist-packages (from onnx) (3.17.3)\n",
            "Requirement already satisfied: numpy>=1.16.6 in /usr/local/lib/python3.7/dist-packages (from onnx) (1.21.6)\n",
            "Requirement already satisfied: six>=1.9 in /usr/local/lib/python3.7/dist-packages (from protobuf>=3.12.2->onnx) (1.15.0)\n"
          ]
        }
      ]
    },
    {
      "cell_type": "markdown",
      "source": [
        "#Loaded the trained bert model."
      ],
      "metadata": {
        "id": "3uuB8LIr5qpU"
      }
    },
    {
      "cell_type": "code",
      "source": [
        "path ='/content/drive/MyDrive/DLOPS_project/3.bin'\n",
        "model = SentimentClassifier(BERT_MODEL)\n",
        "model.load_state_dict(torch.load(path))\n",
        "\n",
        "model"
      ],
      "metadata": {
        "id": "gtJLDqn4_RXG",
        "colab": {
          "base_uri": "https://localhost:8080/"
        },
        "outputId": "726a4214-0eb5-4ca3-8ecb-5604a55ec1ee"
      },
      "execution_count": null,
      "outputs": [
        {
          "output_type": "execute_result",
          "data": {
            "text/plain": [
              "SentimentClassifier(\n",
              "  (bert): BertModel(\n",
              "    (embeddings): BertEmbeddings(\n",
              "      (word_embeddings): Embedding(30522, 768, padding_idx=0)\n",
              "      (position_embeddings): Embedding(512, 768)\n",
              "      (token_type_embeddings): Embedding(2, 768)\n",
              "      (LayerNorm): LayerNorm((768,), eps=1e-12, elementwise_affine=True)\n",
              "      (dropout): Dropout(p=0.1, inplace=False)\n",
              "    )\n",
              "    (encoder): BertEncoder(\n",
              "      (layer): ModuleList(\n",
              "        (0): BertLayer(\n",
              "          (attention): BertAttention(\n",
              "            (self): BertSelfAttention(\n",
              "              (query): Linear(in_features=768, out_features=768, bias=True)\n",
              "              (key): Linear(in_features=768, out_features=768, bias=True)\n",
              "              (value): Linear(in_features=768, out_features=768, bias=True)\n",
              "              (dropout): Dropout(p=0.1, inplace=False)\n",
              "            )\n",
              "            (output): BertSelfOutput(\n",
              "              (dense): Linear(in_features=768, out_features=768, bias=True)\n",
              "              (LayerNorm): LayerNorm((768,), eps=1e-12, elementwise_affine=True)\n",
              "              (dropout): Dropout(p=0.1, inplace=False)\n",
              "            )\n",
              "          )\n",
              "          (intermediate): BertIntermediate(\n",
              "            (dense): Linear(in_features=768, out_features=3072, bias=True)\n",
              "          )\n",
              "          (output): BertOutput(\n",
              "            (dense): Linear(in_features=3072, out_features=768, bias=True)\n",
              "            (LayerNorm): LayerNorm((768,), eps=1e-12, elementwise_affine=True)\n",
              "            (dropout): Dropout(p=0.1, inplace=False)\n",
              "          )\n",
              "        )\n",
              "        (1): BertLayer(\n",
              "          (attention): BertAttention(\n",
              "            (self): BertSelfAttention(\n",
              "              (query): Linear(in_features=768, out_features=768, bias=True)\n",
              "              (key): Linear(in_features=768, out_features=768, bias=True)\n",
              "              (value): Linear(in_features=768, out_features=768, bias=True)\n",
              "              (dropout): Dropout(p=0.1, inplace=False)\n",
              "            )\n",
              "            (output): BertSelfOutput(\n",
              "              (dense): Linear(in_features=768, out_features=768, bias=True)\n",
              "              (LayerNorm): LayerNorm((768,), eps=1e-12, elementwise_affine=True)\n",
              "              (dropout): Dropout(p=0.1, inplace=False)\n",
              "            )\n",
              "          )\n",
              "          (intermediate): BertIntermediate(\n",
              "            (dense): Linear(in_features=768, out_features=3072, bias=True)\n",
              "          )\n",
              "          (output): BertOutput(\n",
              "            (dense): Linear(in_features=3072, out_features=768, bias=True)\n",
              "            (LayerNorm): LayerNorm((768,), eps=1e-12, elementwise_affine=True)\n",
              "            (dropout): Dropout(p=0.1, inplace=False)\n",
              "          )\n",
              "        )\n",
              "        (2): BertLayer(\n",
              "          (attention): BertAttention(\n",
              "            (self): BertSelfAttention(\n",
              "              (query): Linear(in_features=768, out_features=768, bias=True)\n",
              "              (key): Linear(in_features=768, out_features=768, bias=True)\n",
              "              (value): Linear(in_features=768, out_features=768, bias=True)\n",
              "              (dropout): Dropout(p=0.1, inplace=False)\n",
              "            )\n",
              "            (output): BertSelfOutput(\n",
              "              (dense): Linear(in_features=768, out_features=768, bias=True)\n",
              "              (LayerNorm): LayerNorm((768,), eps=1e-12, elementwise_affine=True)\n",
              "              (dropout): Dropout(p=0.1, inplace=False)\n",
              "            )\n",
              "          )\n",
              "          (intermediate): BertIntermediate(\n",
              "            (dense): Linear(in_features=768, out_features=3072, bias=True)\n",
              "          )\n",
              "          (output): BertOutput(\n",
              "            (dense): Linear(in_features=3072, out_features=768, bias=True)\n",
              "            (LayerNorm): LayerNorm((768,), eps=1e-12, elementwise_affine=True)\n",
              "            (dropout): Dropout(p=0.1, inplace=False)\n",
              "          )\n",
              "        )\n",
              "        (3): BertLayer(\n",
              "          (attention): BertAttention(\n",
              "            (self): BertSelfAttention(\n",
              "              (query): Linear(in_features=768, out_features=768, bias=True)\n",
              "              (key): Linear(in_features=768, out_features=768, bias=True)\n",
              "              (value): Linear(in_features=768, out_features=768, bias=True)\n",
              "              (dropout): Dropout(p=0.1, inplace=False)\n",
              "            )\n",
              "            (output): BertSelfOutput(\n",
              "              (dense): Linear(in_features=768, out_features=768, bias=True)\n",
              "              (LayerNorm): LayerNorm((768,), eps=1e-12, elementwise_affine=True)\n",
              "              (dropout): Dropout(p=0.1, inplace=False)\n",
              "            )\n",
              "          )\n",
              "          (intermediate): BertIntermediate(\n",
              "            (dense): Linear(in_features=768, out_features=3072, bias=True)\n",
              "          )\n",
              "          (output): BertOutput(\n",
              "            (dense): Linear(in_features=3072, out_features=768, bias=True)\n",
              "            (LayerNorm): LayerNorm((768,), eps=1e-12, elementwise_affine=True)\n",
              "            (dropout): Dropout(p=0.1, inplace=False)\n",
              "          )\n",
              "        )\n",
              "        (4): BertLayer(\n",
              "          (attention): BertAttention(\n",
              "            (self): BertSelfAttention(\n",
              "              (query): Linear(in_features=768, out_features=768, bias=True)\n",
              "              (key): Linear(in_features=768, out_features=768, bias=True)\n",
              "              (value): Linear(in_features=768, out_features=768, bias=True)\n",
              "              (dropout): Dropout(p=0.1, inplace=False)\n",
              "            )\n",
              "            (output): BertSelfOutput(\n",
              "              (dense): Linear(in_features=768, out_features=768, bias=True)\n",
              "              (LayerNorm): LayerNorm((768,), eps=1e-12, elementwise_affine=True)\n",
              "              (dropout): Dropout(p=0.1, inplace=False)\n",
              "            )\n",
              "          )\n",
              "          (intermediate): BertIntermediate(\n",
              "            (dense): Linear(in_features=768, out_features=3072, bias=True)\n",
              "          )\n",
              "          (output): BertOutput(\n",
              "            (dense): Linear(in_features=3072, out_features=768, bias=True)\n",
              "            (LayerNorm): LayerNorm((768,), eps=1e-12, elementwise_affine=True)\n",
              "            (dropout): Dropout(p=0.1, inplace=False)\n",
              "          )\n",
              "        )\n",
              "        (5): BertLayer(\n",
              "          (attention): BertAttention(\n",
              "            (self): BertSelfAttention(\n",
              "              (query): Linear(in_features=768, out_features=768, bias=True)\n",
              "              (key): Linear(in_features=768, out_features=768, bias=True)\n",
              "              (value): Linear(in_features=768, out_features=768, bias=True)\n",
              "              (dropout): Dropout(p=0.1, inplace=False)\n",
              "            )\n",
              "            (output): BertSelfOutput(\n",
              "              (dense): Linear(in_features=768, out_features=768, bias=True)\n",
              "              (LayerNorm): LayerNorm((768,), eps=1e-12, elementwise_affine=True)\n",
              "              (dropout): Dropout(p=0.1, inplace=False)\n",
              "            )\n",
              "          )\n",
              "          (intermediate): BertIntermediate(\n",
              "            (dense): Linear(in_features=768, out_features=3072, bias=True)\n",
              "          )\n",
              "          (output): BertOutput(\n",
              "            (dense): Linear(in_features=3072, out_features=768, bias=True)\n",
              "            (LayerNorm): LayerNorm((768,), eps=1e-12, elementwise_affine=True)\n",
              "            (dropout): Dropout(p=0.1, inplace=False)\n",
              "          )\n",
              "        )\n",
              "        (6): BertLayer(\n",
              "          (attention): BertAttention(\n",
              "            (self): BertSelfAttention(\n",
              "              (query): Linear(in_features=768, out_features=768, bias=True)\n",
              "              (key): Linear(in_features=768, out_features=768, bias=True)\n",
              "              (value): Linear(in_features=768, out_features=768, bias=True)\n",
              "              (dropout): Dropout(p=0.1, inplace=False)\n",
              "            )\n",
              "            (output): BertSelfOutput(\n",
              "              (dense): Linear(in_features=768, out_features=768, bias=True)\n",
              "              (LayerNorm): LayerNorm((768,), eps=1e-12, elementwise_affine=True)\n",
              "              (dropout): Dropout(p=0.1, inplace=False)\n",
              "            )\n",
              "          )\n",
              "          (intermediate): BertIntermediate(\n",
              "            (dense): Linear(in_features=768, out_features=3072, bias=True)\n",
              "          )\n",
              "          (output): BertOutput(\n",
              "            (dense): Linear(in_features=3072, out_features=768, bias=True)\n",
              "            (LayerNorm): LayerNorm((768,), eps=1e-12, elementwise_affine=True)\n",
              "            (dropout): Dropout(p=0.1, inplace=False)\n",
              "          )\n",
              "        )\n",
              "        (7): BertLayer(\n",
              "          (attention): BertAttention(\n",
              "            (self): BertSelfAttention(\n",
              "              (query): Linear(in_features=768, out_features=768, bias=True)\n",
              "              (key): Linear(in_features=768, out_features=768, bias=True)\n",
              "              (value): Linear(in_features=768, out_features=768, bias=True)\n",
              "              (dropout): Dropout(p=0.1, inplace=False)\n",
              "            )\n",
              "            (output): BertSelfOutput(\n",
              "              (dense): Linear(in_features=768, out_features=768, bias=True)\n",
              "              (LayerNorm): LayerNorm((768,), eps=1e-12, elementwise_affine=True)\n",
              "              (dropout): Dropout(p=0.1, inplace=False)\n",
              "            )\n",
              "          )\n",
              "          (intermediate): BertIntermediate(\n",
              "            (dense): Linear(in_features=768, out_features=3072, bias=True)\n",
              "          )\n",
              "          (output): BertOutput(\n",
              "            (dense): Linear(in_features=3072, out_features=768, bias=True)\n",
              "            (LayerNorm): LayerNorm((768,), eps=1e-12, elementwise_affine=True)\n",
              "            (dropout): Dropout(p=0.1, inplace=False)\n",
              "          )\n",
              "        )\n",
              "        (8): BertLayer(\n",
              "          (attention): BertAttention(\n",
              "            (self): BertSelfAttention(\n",
              "              (query): Linear(in_features=768, out_features=768, bias=True)\n",
              "              (key): Linear(in_features=768, out_features=768, bias=True)\n",
              "              (value): Linear(in_features=768, out_features=768, bias=True)\n",
              "              (dropout): Dropout(p=0.1, inplace=False)\n",
              "            )\n",
              "            (output): BertSelfOutput(\n",
              "              (dense): Linear(in_features=768, out_features=768, bias=True)\n",
              "              (LayerNorm): LayerNorm((768,), eps=1e-12, elementwise_affine=True)\n",
              "              (dropout): Dropout(p=0.1, inplace=False)\n",
              "            )\n",
              "          )\n",
              "          (intermediate): BertIntermediate(\n",
              "            (dense): Linear(in_features=768, out_features=3072, bias=True)\n",
              "          )\n",
              "          (output): BertOutput(\n",
              "            (dense): Linear(in_features=3072, out_features=768, bias=True)\n",
              "            (LayerNorm): LayerNorm((768,), eps=1e-12, elementwise_affine=True)\n",
              "            (dropout): Dropout(p=0.1, inplace=False)\n",
              "          )\n",
              "        )\n",
              "        (9): BertLayer(\n",
              "          (attention): BertAttention(\n",
              "            (self): BertSelfAttention(\n",
              "              (query): Linear(in_features=768, out_features=768, bias=True)\n",
              "              (key): Linear(in_features=768, out_features=768, bias=True)\n",
              "              (value): Linear(in_features=768, out_features=768, bias=True)\n",
              "              (dropout): Dropout(p=0.1, inplace=False)\n",
              "            )\n",
              "            (output): BertSelfOutput(\n",
              "              (dense): Linear(in_features=768, out_features=768, bias=True)\n",
              "              (LayerNorm): LayerNorm((768,), eps=1e-12, elementwise_affine=True)\n",
              "              (dropout): Dropout(p=0.1, inplace=False)\n",
              "            )\n",
              "          )\n",
              "          (intermediate): BertIntermediate(\n",
              "            (dense): Linear(in_features=768, out_features=3072, bias=True)\n",
              "          )\n",
              "          (output): BertOutput(\n",
              "            (dense): Linear(in_features=3072, out_features=768, bias=True)\n",
              "            (LayerNorm): LayerNorm((768,), eps=1e-12, elementwise_affine=True)\n",
              "            (dropout): Dropout(p=0.1, inplace=False)\n",
              "          )\n",
              "        )\n",
              "        (10): BertLayer(\n",
              "          (attention): BertAttention(\n",
              "            (self): BertSelfAttention(\n",
              "              (query): Linear(in_features=768, out_features=768, bias=True)\n",
              "              (key): Linear(in_features=768, out_features=768, bias=True)\n",
              "              (value): Linear(in_features=768, out_features=768, bias=True)\n",
              "              (dropout): Dropout(p=0.1, inplace=False)\n",
              "            )\n",
              "            (output): BertSelfOutput(\n",
              "              (dense): Linear(in_features=768, out_features=768, bias=True)\n",
              "              (LayerNorm): LayerNorm((768,), eps=1e-12, elementwise_affine=True)\n",
              "              (dropout): Dropout(p=0.1, inplace=False)\n",
              "            )\n",
              "          )\n",
              "          (intermediate): BertIntermediate(\n",
              "            (dense): Linear(in_features=768, out_features=3072, bias=True)\n",
              "          )\n",
              "          (output): BertOutput(\n",
              "            (dense): Linear(in_features=3072, out_features=768, bias=True)\n",
              "            (LayerNorm): LayerNorm((768,), eps=1e-12, elementwise_affine=True)\n",
              "            (dropout): Dropout(p=0.1, inplace=False)\n",
              "          )\n",
              "        )\n",
              "        (11): BertLayer(\n",
              "          (attention): BertAttention(\n",
              "            (self): BertSelfAttention(\n",
              "              (query): Linear(in_features=768, out_features=768, bias=True)\n",
              "              (key): Linear(in_features=768, out_features=768, bias=True)\n",
              "              (value): Linear(in_features=768, out_features=768, bias=True)\n",
              "              (dropout): Dropout(p=0.1, inplace=False)\n",
              "            )\n",
              "            (output): BertSelfOutput(\n",
              "              (dense): Linear(in_features=768, out_features=768, bias=True)\n",
              "              (LayerNorm): LayerNorm((768,), eps=1e-12, elementwise_affine=True)\n",
              "              (dropout): Dropout(p=0.1, inplace=False)\n",
              "            )\n",
              "          )\n",
              "          (intermediate): BertIntermediate(\n",
              "            (dense): Linear(in_features=768, out_features=3072, bias=True)\n",
              "          )\n",
              "          (output): BertOutput(\n",
              "            (dense): Linear(in_features=3072, out_features=768, bias=True)\n",
              "            (LayerNorm): LayerNorm((768,), eps=1e-12, elementwise_affine=True)\n",
              "            (dropout): Dropout(p=0.1, inplace=False)\n",
              "          )\n",
              "        )\n",
              "      )\n",
              "    )\n",
              "    (pooler): BertPooler(\n",
              "      (dense): Linear(in_features=768, out_features=768, bias=True)\n",
              "      (activation): Tanh()\n",
              "    )\n",
              "  )\n",
              "  (drop): Dropout(p=0.3, inplace=False)\n",
              "  (out): Linear(in_features=768, out_features=2, bias=True)\n",
              ")"
            ]
          },
          "metadata": {},
          "execution_count": 22
        }
      ]
    },
    {
      "cell_type": "code",
      "source": [
        "\n",
        "TRAIN_MAX_LEN = 140\n",
        "VALID_MAX_LEN = 140\n",
        "TRAIN_BATCH_SIZE = 16\n",
        "VALID_BATCH_SIZE = 16\n",
        "EPOCHS = 5\n",
        "BERT_MODEL = 'bert-base-uncased'\n",
        "LEARNING_RATE = 3e-5\n",
        "tokenizer = transformers.BertTokenizer.from_pretrained(BERT_MODEL)\n",
        "\n",
        "train_dataset = util_tokenizer(\n",
        "    text = df_train['review'].values,\n",
        "    targets = df_train['sentiment'].values,\n",
        "    tokenizer = tokenizer,\n",
        "    max_len = TRAIN_MAX_LEN\n",
        ")\n",
        "\n",
        "\n",
        "train_data_loader = torch.utils.data.DataLoader(\n",
        "    train_dataset,\n",
        "    batch_size = TRAIN_BATCH_SIZE,\n",
        "    shuffle = False,\n",
        ")\n",
        "\n",
        "\n",
        "for bi, d in enumerate(train_data_loader):\n",
        "  ids = d[\"ids\"]\n",
        "  mask = d[\"mask\"]\n",
        "  token_type_ids = d[\"token_type_ids\"]\n",
        "  targets = d[\"targets\"]\n",
        "  break"
      ],
      "metadata": {
        "id": "LVZrSySSORHf"
      },
      "execution_count": null,
      "outputs": []
    },
    {
      "cell_type": "markdown",
      "source": [
        "#Converting in onnx"
      ],
      "metadata": {
        "id": "8Wt7sns_5yrp"
      }
    },
    {
      "cell_type": "code",
      "source": [
        "\n",
        "# Input to the model\n",
        "\n",
        "x = (ids,mask,token_type_ids)\n",
        "\n",
        "# Export the model\n",
        "torch.onnx.export(model,                      # model being run\n",
        "                  x,                          # model input (or a tuple for multiple inputs)                       \n",
        "                  \"/content/drive/MyDrive/DLOPS_project/sentiment_bert.onnx\", # where to save the model (can be a file or file-like object)\n",
        "                  export_params=True,        # store the trained parameter weights inside the model file\n",
        "                  opset_version=10,          # the ONNX version to export the model to\n",
        "                  do_constant_folding=True,  # whether to execute constant folding for optimization\n",
        "                  input_names = ['input'],   # the model's input names\n",
        "                  output_names = ['output'], # the model's output names\n",
        "                  )\n",
        "print(\"successfully converted to onnx\")\n",
        "\n",
        "\n",
        "#onnx.checker.check_model(onnx_model)\n"
      ],
      "metadata": {
        "colab": {
          "base_uri": "https://localhost:8080/"
        },
        "id": "No2UcSpdHyj7",
        "outputId": "cb6c849f-1654-4c4c-ee47-f693bdebc162"
      },
      "execution_count": null,
      "outputs": [
        {
          "output_type": "stream",
          "name": "stdout",
          "text": [
            "successfully converted to onnx\n"
          ]
        }
      ]
    },
    {
      "cell_type": "code",
      "source": [
        ""
      ],
      "metadata": {
        "id": "AZ_ejLwLden8"
      },
      "execution_count": null,
      "outputs": []
    },
    {
      "cell_type": "markdown",
      "source": [
        "#Inferencing on Pytorch"
      ],
      "metadata": {
        "id": "cffGhx_5heSv"
      }
    },
    {
      "cell_type": "code",
      "source": [
        "text = \"The movie was initially boring but it was good in the second half and I didn't find the plot of the movie interesting\"\n",
        "#text_neg =\"The move was so bad\""
      ],
      "metadata": {
        "id": "A9NSSYIwrAad"
      },
      "execution_count": null,
      "outputs": []
    },
    {
      "cell_type": "code",
      "source": [
        "import time\n",
        "BERT_MODEL = 'bert-base-uncased'\n",
        "MAX_LEN = 160\n",
        "\n",
        "start = time.time()\n",
        "tokenizer = transformers.BertTokenizer.from_pretrained(BERT_MODEL)\n",
        "text = text.strip()\n",
        "\n",
        "\n",
        "inputs = tokenizer.encode_plus(\n",
        "    text,\n",
        "    add_special_tokens = True,\n",
        "    max_length = MAX_LEN,\n",
        "    pad_to_max_length = True\n",
        ")\n",
        "ids = torch.tensor(inputs[\"input_ids\"], dtype=torch.long).unsqueeze(0)\n",
        "mask = torch.tensor(inputs[\"attention_mask\"], dtype=torch.long).unsqueeze(0)\n",
        "token_type_ids = torch.tensor(inputs[\"token_type_ids\"], dtype=torch.long).unsqueeze(0)\n",
        "\n",
        "ids = ids.to(device, dtype=torch.long)\n",
        "mask = mask.to(device, dtype=torch.long)\n",
        "token_type_ids = token_type_ids.to(device, dtype=torch.long)\n",
        "\n",
        "path = '/content/drive/MyDrive/DLOPS_project/3.bin'\n",
        "model = SentimentClassifier(BERT_MODEL)\n",
        "model.load_state_dict(torch.load(path))\n",
        "model = model.to(device)\n",
        "\n",
        "\n",
        "outputs = model(ids=ids, mask=mask, token_type_ids=token_type_ids)\n",
        "#print(outputs)\n",
        "\n",
        "\n",
        "_, predicted = torch.max(outputs, 1)\n",
        "\n",
        "#print(predicted)\n",
        "predicted = predicted.detach().cpu().numpy()\n",
        "predict_sentiment=predicted[0]\n",
        "predict_score=outputs[0][predict_sentiment].item()\n",
        "#print(predict_score)\n",
        "\n",
        "print(\"PyTorch Inference time = {} ms\".format(time.time() - start))\n",
        "if predict_sentiment ==0:\n",
        "  print(\"The sentiment is positive\")\n",
        "else:\n",
        "  print(\"The sentiment is negative\")\n",
        "\n",
        "\n",
        "  \n"
      ],
      "metadata": {
        "colab": {
          "base_uri": "https://localhost:8080/"
        },
        "id": "0prpmCeWrJdp",
        "outputId": "a84eaf53-c50e-4a5a-ad82-25458e49c38e"
      },
      "execution_count": null,
      "outputs": [
        {
          "output_type": "stream",
          "name": "stdout",
          "text": [
            "PyTorch Inference time = 5.874268054962158 ms\n",
            "The sentiment is negative\n"
          ]
        }
      ]
    },
    {
      "cell_type": "code",
      "source": [
        ""
      ],
      "metadata": {
        "id": "4Jou4aIydpu4"
      },
      "execution_count": null,
      "outputs": []
    },
    {
      "cell_type": "code",
      "source": [
        "#text = \"The movie was so good, I really liked it\"\n",
        "text_neg =\"The move was extremely bad\""
      ],
      "metadata": {
        "id": "QpuZB5FmdqEc"
      },
      "execution_count": null,
      "outputs": []
    },
    {
      "cell_type": "code",
      "source": [
        "import time\n",
        "BERT_MODEL = 'bert-base-uncased'\n",
        "MAX_LEN = 160\n",
        "\n",
        "start = time.time()\n",
        "tokenizer = transformers.BertTokenizer.from_pretrained(BERT_MODEL)\n",
        "text_neg = text_neg.strip()\n",
        "\n",
        "\n",
        "inputs = tokenizer.encode_plus(\n",
        "    text,\n",
        "    add_special_tokens = True,\n",
        "    max_length = MAX_LEN,\n",
        "    pad_to_max_length = True\n",
        ")\n",
        "ids = torch.tensor(inputs[\"input_ids\"], dtype=torch.long).unsqueeze(0)\n",
        "mask = torch.tensor(inputs[\"attention_mask\"], dtype=torch.long).unsqueeze(0)\n",
        "token_type_ids = torch.tensor(inputs[\"token_type_ids\"], dtype=torch.long).unsqueeze(0)\n",
        "\n",
        "ids = ids.to(device, dtype=torch.long)\n",
        "mask = mask.to(device, dtype=torch.long)\n",
        "token_type_ids = token_type_ids.to(device, dtype=torch.long)\n",
        "\n",
        "path = '/content/drive/MyDrive/DLOPS_project/3.bin'\n",
        "model = SentimentClassifier(BERT_MODEL)\n",
        "model.load_state_dict(torch.load(path))\n",
        "model = model.to(device)\n",
        "\n",
        "\n",
        "outputs = model(ids=ids, mask=mask, token_type_ids=token_type_ids)\n",
        "#print(outputs)\n",
        "\n",
        "\n",
        "_, predicted = torch.max(outputs, 1)\n",
        "\n",
        "#print(predicted)\n",
        "predicted = predicted.detach().cpu().numpy()\n",
        "predict_sentiment=predicted[0]\n",
        "predict_score=outputs[0][predict_sentiment].item()\n",
        "#print(predict_score)\n",
        "\n",
        "print(\"PyTorch Inference time = {} ms\".format(time.time() - start))\n",
        "if predict_sentiment ==0:\n",
        "  print(\"The sentiment is positive\")\n",
        "else:\n",
        "  print(\"The sentiment is negative\")\n",
        "\n",
        "\n",
        "  \n"
      ],
      "metadata": {
        "colab": {
          "base_uri": "https://localhost:8080/"
        },
        "outputId": "f115cc79-5980-4be9-d58a-ce08e2921681",
        "id": "HpfXlzvCdqEd"
      },
      "execution_count": null,
      "outputs": [
        {
          "output_type": "stream",
          "name": "stdout",
          "text": [
            "PyTorch Inference time = 8.51868724822998 ms\n",
            "The sentiment is negative\n"
          ]
        }
      ]
    },
    {
      "cell_type": "code",
      "source": [
        ""
      ],
      "metadata": {
        "id": "QiLVWvnYv0v6"
      },
      "execution_count": null,
      "outputs": []
    }
  ]
}